{
 "cells": [
  {
   "cell_type": "markdown",
   "id": "31b49611",
   "metadata": {},
   "source": [
    "## 1. Introduction\n",
    "Data was scrapped from MyDramaList"
   ]
  },
  {
   "cell_type": "markdown",
   "id": "f6530258",
   "metadata": {},
   "source": [
    "## 2. Importing Libraries"
   ]
  },
  {
   "cell_type": "code",
   "execution_count": 1,
   "id": "bdd417ef",
   "metadata": {},
   "outputs": [],
   "source": [
    "import numpy as np\n",
    "import pandas as pd\n",
    "import matplotlib.pyplot as plt\n",
    "import seaborn as sns\n",
    "import os\n",
    "import ast\n",
    "import re"
   ]
  },
  {
   "cell_type": "markdown",
   "id": "17c26a27",
   "metadata": {},
   "source": [
    "## 3. Exploring the data"
   ]
  },
  {
   "cell_type": "code",
   "execution_count": 2,
   "id": "e6059032",
   "metadata": {},
   "outputs": [
    {
     "data": {
      "text/html": [
       "<div>\n",
       "<style scoped>\n",
       "    .dataframe tbody tr th:only-of-type {\n",
       "        vertical-align: middle;\n",
       "    }\n",
       "\n",
       "    .dataframe tbody tr th {\n",
       "        vertical-align: top;\n",
       "    }\n",
       "\n",
       "    .dataframe thead th {\n",
       "        text-align: right;\n",
       "    }\n",
       "</style>\n",
       "<table border=\"1\" class=\"dataframe\">\n",
       "  <thead>\n",
       "    <tr style=\"text-align: right;\">\n",
       "      <th></th>\n",
       "      <th>drama_id</th>\n",
       "      <th>title</th>\n",
       "      <th>drama_type</th>\n",
       "      <th>year</th>\n",
       "      <th>rating</th>\n",
       "      <th>episodes</th>\n",
       "      <th>url</th>\n",
       "      <th>genre</th>\n",
       "      <th>overview</th>\n",
       "      <th>tag</th>\n",
       "      <th>main_cast</th>\n",
       "      <th>country</th>\n",
       "      <th>aired</th>\n",
       "      <th>aired_on</th>\n",
       "      <th>original_network</th>\n",
       "      <th>duration</th>\n",
       "      <th>content_rating</th>\n",
       "      <th>image_url</th>\n",
       "    </tr>\n",
       "  </thead>\n",
       "  <tbody>\n",
       "    <tr>\n",
       "      <th>0</th>\n",
       "      <td>1</td>\n",
       "      <td>Twinkling Watermelon\\n\\n</td>\n",
       "      <td>Korean Drama</td>\n",
       "      <td>2023</td>\n",
       "      <td>9.2</td>\n",
       "      <td>16</td>\n",
       "      <td>https://mydramalist.com/739603-sparkling-water...</td>\n",
       "      <td>Romance,  Youth,  Drama,  Fantasy</td>\n",
       "      <td>In 2023, Eun Gyeol is a CODA (Child of Deaf Ad...</td>\n",
       "      <td>Time Travel, Child From The Future, Sign Langu...</td>\n",
       "      <td>Ryeoun, Choi Hyun Wook, Seol In Ah, Shin Eun S...</td>\n",
       "      <td>South Korea</td>\n",
       "      <td>Sep 25, 2023 - Nov 14, 2023</td>\n",
       "      <td>Monday, Tuesday</td>\n",
       "      <td>TVING,  tvN</td>\n",
       "      <td>1 hr. 10 min.</td>\n",
       "      <td>15+ - Teens 15 or older</td>\n",
       "      <td>https://i.mydramalist.com/2w44jE_4c.jpg?v=1</td>\n",
       "    </tr>\n",
       "    <tr>\n",
       "      <th>1</th>\n",
       "      <td>2</td>\n",
       "      <td>Move to Heaven\\n\\n</td>\n",
       "      <td>Korean Drama</td>\n",
       "      <td>2021</td>\n",
       "      <td>9.1</td>\n",
       "      <td>10</td>\n",
       "      <td>https://mydramalist.com/49231-move-to-heaven</td>\n",
       "      <td>Life,  Drama</td>\n",
       "      <td>Han Geu Roo is an autistic 20-year-old. He wor...</td>\n",
       "      <td>Uncle-Nephew Relationship, Autism, Death, Tear...</td>\n",
       "      <td>Lee Je Hoon, Tang Jun Sang, Hong Seung Hee, Ju...</td>\n",
       "      <td>South Korea</td>\n",
       "      <td>May 14, 2021</td>\n",
       "      <td>Friday</td>\n",
       "      <td>Netflix</td>\n",
       "      <td>52 min.</td>\n",
       "      <td>18+ Restricted (violence &amp; profanity)</td>\n",
       "      <td>https://i.mydramalist.com/Rle36_4c.jpg?v=1</td>\n",
       "    </tr>\n",
       "    <tr>\n",
       "      <th>2</th>\n",
       "      <td>3</td>\n",
       "      <td>Weak Hero Class 1\\n\\n</td>\n",
       "      <td>Korean Drama</td>\n",
       "      <td>2022</td>\n",
       "      <td>9.1</td>\n",
       "      <td>8</td>\n",
       "      <td>https://mydramalist.com/702267-weak-hero</td>\n",
       "      <td>Action,  Youth,  Drama</td>\n",
       "      <td>Yeon Shi Eun is a model student who ranks at t...</td>\n",
       "      <td>Skilled Fighter, Violence, Adapted From A Webt...</td>\n",
       "      <td>Park Ji Hoon, Choi Hyun Wook, Hong Kyung, Kim ...</td>\n",
       "      <td>South Korea</td>\n",
       "      <td>Nov 18, 2022</td>\n",
       "      <td>Friday</td>\n",
       "      <td>Wavve</td>\n",
       "      <td>40 min.</td>\n",
       "      <td>18+ Restricted (violence &amp; profanity)</td>\n",
       "      <td>https://i.mydramalist.com/pq2lr_4c.jpg?v=1</td>\n",
       "    </tr>\n",
       "    <tr>\n",
       "      <th>3</th>\n",
       "      <td>4</td>\n",
       "      <td>Hospital Playlist Season 2\\n\\n</td>\n",
       "      <td>Korean Drama</td>\n",
       "      <td>2021</td>\n",
       "      <td>9.1</td>\n",
       "      <td>12</td>\n",
       "      <td>https://mydramalist.com/57173-hospital-playlist-2</td>\n",
       "      <td>Romance,  Life,  Drama,  Medical</td>\n",
       "      <td>Everyday is extraordinary for five doctors and...</td>\n",
       "      <td>Multiple Mains, Band, Music, Multiple Couples,...</td>\n",
       "      <td>Jo Jung Suk, Yoo Yeon Seok, Jung Kyung Ho, Kim...</td>\n",
       "      <td>South Korea</td>\n",
       "      <td>Jun 17, 2021 - Sep 16, 2021</td>\n",
       "      <td>Thursday</td>\n",
       "      <td>Netflix,  tvN</td>\n",
       "      <td>1 hr. 40 min.</td>\n",
       "      <td>15+ - Teens 15 or older</td>\n",
       "      <td>https://i.mydramalist.com/dKY0d_4c.jpg?v=1</td>\n",
       "    </tr>\n",
       "    <tr>\n",
       "      <th>4</th>\n",
       "      <td>5</td>\n",
       "      <td>Nirvana in Fire\\n\\n</td>\n",
       "      <td>Chinese Drama</td>\n",
       "      <td>2015</td>\n",
       "      <td>9.1</td>\n",
       "      <td>54</td>\n",
       "      <td>https://mydramalist.com/9025-nirvana-in-fire</td>\n",
       "      <td>Military,  Historical,  Drama,  Political</td>\n",
       "      <td>In sixth-century China, the Emperor of Great L...</td>\n",
       "      <td>Power Struggle, Smart Male Lead, Hidden Identi...</td>\n",
       "      <td>Hu Ge, Liu Tao, Wang Kai, Chen Long, Victor Hu...</td>\n",
       "      <td>China</td>\n",
       "      <td>Sep 19, 2015 - Oct 15, 2015</td>\n",
       "      <td>Monday, Tuesday, Wednesday, Thursday, Friday, ...</td>\n",
       "      <td>BTV</td>\n",
       "      <td>45 min.</td>\n",
       "      <td>13+ - Teens 13 or older</td>\n",
       "      <td>https://i.mydramalist.com/kV54dc.jpg?v=1</td>\n",
       "    </tr>\n",
       "  </tbody>\n",
       "</table>\n",
       "</div>"
      ],
      "text/plain": [
       "   drama_id                           title     drama_type  year  rating  \\\n",
       "0         1        Twinkling Watermelon\\n\\n   Korean Drama  2023     9.2   \n",
       "1         2              Move to Heaven\\n\\n   Korean Drama  2021     9.1   \n",
       "2         3           Weak Hero Class 1\\n\\n   Korean Drama  2022     9.1   \n",
       "3         4  Hospital Playlist Season 2\\n\\n   Korean Drama  2021     9.1   \n",
       "4         5             Nirvana in Fire\\n\\n  Chinese Drama  2015     9.1   \n",
       "\n",
       "   episodes                                                url  \\\n",
       "0        16  https://mydramalist.com/739603-sparkling-water...   \n",
       "1        10       https://mydramalist.com/49231-move-to-heaven   \n",
       "2         8           https://mydramalist.com/702267-weak-hero   \n",
       "3        12  https://mydramalist.com/57173-hospital-playlist-2   \n",
       "4        54       https://mydramalist.com/9025-nirvana-in-fire   \n",
       "\n",
       "                                       genre  \\\n",
       "0          Romance,  Youth,  Drama,  Fantasy   \n",
       "1                               Life,  Drama   \n",
       "2                     Action,  Youth,  Drama   \n",
       "3           Romance,  Life,  Drama,  Medical   \n",
       "4  Military,  Historical,  Drama,  Political   \n",
       "\n",
       "                                            overview  \\\n",
       "0  In 2023, Eun Gyeol is a CODA (Child of Deaf Ad...   \n",
       "1  Han Geu Roo is an autistic 20-year-old. He wor...   \n",
       "2  Yeon Shi Eun is a model student who ranks at t...   \n",
       "3  Everyday is extraordinary for five doctors and...   \n",
       "4  In sixth-century China, the Emperor of Great L...   \n",
       "\n",
       "                                                 tag  \\\n",
       "0  Time Travel, Child From The Future, Sign Langu...   \n",
       "1  Uncle-Nephew Relationship, Autism, Death, Tear...   \n",
       "2  Skilled Fighter, Violence, Adapted From A Webt...   \n",
       "3  Multiple Mains, Band, Music, Multiple Couples,...   \n",
       "4  Power Struggle, Smart Male Lead, Hidden Identi...   \n",
       "\n",
       "                                           main_cast      country  \\\n",
       "0  Ryeoun, Choi Hyun Wook, Seol In Ah, Shin Eun S...  South Korea   \n",
       "1  Lee Je Hoon, Tang Jun Sang, Hong Seung Hee, Ju...  South Korea   \n",
       "2  Park Ji Hoon, Choi Hyun Wook, Hong Kyung, Kim ...  South Korea   \n",
       "3  Jo Jung Suk, Yoo Yeon Seok, Jung Kyung Ho, Kim...  South Korea   \n",
       "4  Hu Ge, Liu Tao, Wang Kai, Chen Long, Victor Hu...        China   \n",
       "\n",
       "                         aired  \\\n",
       "0  Sep 25, 2023 - Nov 14, 2023   \n",
       "1                 May 14, 2021   \n",
       "2                 Nov 18, 2022   \n",
       "3  Jun 17, 2021 - Sep 16, 2021   \n",
       "4  Sep 19, 2015 - Oct 15, 2015   \n",
       "\n",
       "                                            aired_on original_network  \\\n",
       "0                                    Monday, Tuesday      TVING,  tvN   \n",
       "1                                             Friday          Netflix   \n",
       "2                                             Friday            Wavve   \n",
       "3                                           Thursday    Netflix,  tvN   \n",
       "4  Monday, Tuesday, Wednesday, Thursday, Friday, ...              BTV   \n",
       "\n",
       "        duration                         content_rating  \\\n",
       "0  1 hr. 10 min.                15+ - Teens 15 or older   \n",
       "1        52 min.  18+ Restricted (violence & profanity)   \n",
       "2        40 min.  18+ Restricted (violence & profanity)   \n",
       "3  1 hr. 40 min.                15+ - Teens 15 or older   \n",
       "4        45 min.                13+ - Teens 13 or older   \n",
       "\n",
       "                                     image_url  \n",
       "0  https://i.mydramalist.com/2w44jE_4c.jpg?v=1  \n",
       "1   https://i.mydramalist.com/Rle36_4c.jpg?v=1  \n",
       "2   https://i.mydramalist.com/pq2lr_4c.jpg?v=1  \n",
       "3   https://i.mydramalist.com/dKY0d_4c.jpg?v=1  \n",
       "4     https://i.mydramalist.com/kV54dc.jpg?v=1  "
      ]
     },
     "execution_count": 2,
     "metadata": {},
     "output_type": "execute_result"
    }
   ],
   "source": [
    "df_dramas = pd.read_csv(\"dramas_data_v2.csv\")\n",
    "df_dramas.head()"
   ]
  },
  {
   "cell_type": "markdown",
   "id": "d2566b9f",
   "metadata": {},
   "source": [
    "### 3.1 Shape of the dataset and data type"
   ]
  },
  {
   "cell_type": "code",
   "execution_count": 3,
   "id": "56e50961",
   "metadata": {},
   "outputs": [
    {
     "name": "stdout",
     "output_type": "stream",
     "text": [
      "<class 'pandas.core.frame.DataFrame'>\n",
      "RangeIndex: 4980 entries, 0 to 4979\n",
      "Data columns (total 18 columns):\n",
      " #   Column            Non-Null Count  Dtype  \n",
      "---  ------            --------------  -----  \n",
      " 0   drama_id          4980 non-null   int64  \n",
      " 1   title             4980 non-null   object \n",
      " 2   drama_type        4980 non-null   object \n",
      " 3   year              4980 non-null   int64  \n",
      " 4   rating            4980 non-null   float64\n",
      " 5   episodes          4980 non-null   int64  \n",
      " 6   url               4980 non-null   object \n",
      " 7   genre             4980 non-null   object \n",
      " 8   overview          4968 non-null   object \n",
      " 9   tag               4943 non-null   object \n",
      " 10  main_cast         4980 non-null   object \n",
      " 11  country           4980 non-null   object \n",
      " 12  aired             4980 non-null   object \n",
      " 13  aired_on          4790 non-null   object \n",
      " 14  original_network  4743 non-null   object \n",
      " 15  duration          4980 non-null   object \n",
      " 16  content_rating    4980 non-null   object \n",
      " 17  image_url         4980 non-null   object \n",
      "dtypes: float64(1), int64(3), object(14)\n",
      "memory usage: 700.4+ KB\n"
     ]
    }
   ],
   "source": [
    "df_dramas.shape\n",
    "df_dramas.info()"
   ]
  },
  {
   "cell_type": "markdown",
   "id": "a0a1e92d",
   "metadata": {},
   "source": [
    "### 3.2 Check for duplicates"
   ]
  },
  {
   "cell_type": "code",
   "execution_count": 4,
   "id": "d8b2f0c1",
   "metadata": {},
   "outputs": [
    {
     "name": "stdout",
     "output_type": "stream",
     "text": [
      "Number of duplicate rows: 0\n"
     ]
    }
   ],
   "source": [
    "duplicates = df_dramas.duplicated()\n",
    "print(\"Number of duplicate rows:\", duplicates.sum())"
   ]
  },
  {
   "cell_type": "markdown",
   "id": "32a9ee25",
   "metadata": {},
   "source": [
    "### 3.3 Check for null values"
   ]
  },
  {
   "cell_type": "code",
   "execution_count": 5,
   "id": "acecdda7",
   "metadata": {},
   "outputs": [
    {
     "name": "stdout",
     "output_type": "stream",
     "text": [
      "drama_id              0\n",
      "title                 0\n",
      "drama_type            0\n",
      "year                  0\n",
      "rating                0\n",
      "episodes              0\n",
      "url                   0\n",
      "genre                 0\n",
      "overview             12\n",
      "tag                  37\n",
      "main_cast             0\n",
      "country               0\n",
      "aired                 0\n",
      "aired_on            190\n",
      "original_network    237\n",
      "duration              0\n",
      "content_rating        0\n",
      "image_url             0\n",
      "dtype: int64\n"
     ]
    }
   ],
   "source": [
    "print(df_dramas.isnull().sum())"
   ]
  },
  {
   "cell_type": "markdown",
   "id": "37a13625",
   "metadata": {},
   "source": [
    "Column `aired_on` and `original_network` is not needed for the recommendation modelling."
   ]
  },
  {
   "cell_type": "markdown",
   "id": "0dab558e",
   "metadata": {},
   "source": [
    "### 3.31 Display drama title and overview value that is null"
   ]
  },
  {
   "cell_type": "code",
   "execution_count": 6,
   "id": "1369ef45",
   "metadata": {},
   "outputs": [
    {
     "name": "stdout",
     "output_type": "stream",
     "text": [
      "                                            title overview\n",
      "1207        Anata no Ban Desu - Counterattack\\n\\n      NaN\n",
      "2221  Gintama 2: Yonimo Kimyo na Gintama-chan\\n\\n      NaN\n",
      "2373     The Monkey King: Quest for the Sutra\\n\\n      NaN\n",
      "2748                         Bang Rak Soi 9/1\\n\\n      NaN\n",
      "2931                  What's Your Blood Type?\\n\\n      NaN\n",
      "3183                       Hi Flower Season 2\\n\\n      NaN\n",
      "3231                     Just One Bite: Pilot\\n\\n      NaN\n",
      "3363     The Age Difference  in Love Season 1\\n\\n      NaN\n",
      "3971               My Sassy Deskmate Season 2\\n\\n      NaN\n",
      "4462        Watashi ga Kemono ni Natta Yoru 2\\n\\n      NaN\n",
      "4490                             Office Watch\\n\\n      NaN\n",
      "4522        Watashi ga Kemono ni Natta Yoru 3\\n\\n      NaN\n"
     ]
    }
   ],
   "source": [
    "null_overview = df_dramas[df_dramas['overview'].isnull()]\n",
    "print(null_overview[['title', 'overview']])"
   ]
  },
  {
   "cell_type": "markdown",
   "id": "cb8ac69c",
   "metadata": {},
   "source": [
    "### 3.32 Display drama title and tag value that is null"
   ]
  },
  {
   "cell_type": "code",
   "execution_count": 7,
   "id": "84017ec6",
   "metadata": {},
   "outputs": [
    {
     "name": "stdout",
     "output_type": "stream",
     "text": [
      "                             title  tag\n",
      "1322            Got to Believe\\n\\n  NaN\n",
      "1524             Ultraman Geed\\n\\n  NaN\n",
      "1530  Line Walker: The Prelude\\n\\n  NaN\n",
      "1775         Kamen Rider Black\\n\\n  NaN\n",
      "2254   The Legendary Four Aces\\n\\n  NaN\n",
      "2403              Ten Brothers\\n\\n  NaN\n",
      "2453   While You Were Sleeping\\n\\n  NaN\n",
      "2532            Ghetto Justice\\n\\n  NaN\n",
      "2574          House of Spirits\\n\\n  NaN\n",
      "2656     E.U. (Emergency Unit)\\n\\n  NaN\n",
      "2698           The Seventh Day\\n\\n  NaN\n",
      "2795      A Fistful of Stances\\n\\n  NaN\n",
      "2946                    Dinner\\n\\n  NaN\n",
      "2951               Square Pegs\\n\\n  NaN\n",
      "2969                Aikurushii\\n\\n  NaN\n",
      "3094                Ultraman X\\n\\n  NaN\n",
      "3260         On the First Beat\\n\\n  NaN\n",
      "3270              Happy Noodle\\n\\n  NaN\n",
      "3328                 Mukodono!\\n\\n  NaN\n",
      "3336             Friendly Fire\\n\\n  NaN\n",
      "3371            Eye in the Sky\\n\\n  NaN\n",
      "3381             Rock 'n' Road\\n\\n  NaN\n",
      "3463          Life Made Simple\\n\\n  NaN\n",
      "3495   Ghetto Justice Season 2\\n\\n  NaN\n",
      "3511  Under the Canopy of Love\\n\\n  NaN\n",
      "3760          My Amazing Bride\\n\\n  NaN\n",
      "3891              You're Hired\\n\\n  NaN\n",
      "3936               Bounty Lady\\n\\n  NaN\n",
      "4001               Foolish Mom\\n\\n  NaN\n",
      "4286    Burning Flame Season 3\\n\\n  NaN\n",
      "4348            SHARK Season 2\\n\\n  NaN\n",
      "4508      You Are The Only One\\n\\n  NaN\n",
      "4534       Flower of the Queen\\n\\n  NaN\n",
      "4576                 Dr. Champ\\n\\n  NaN\n",
      "4746        You Are My Destiny\\n\\n  NaN\n",
      "4772     Wish To See You Again\\n\\n  NaN\n",
      "4826      Iki mo Dekinai Natsu\\n\\n  NaN\n"
     ]
    }
   ],
   "source": [
    "null_tag = df_dramas[df_dramas['tag'].isnull()]\n",
    "print(null_tag[['title', 'tag']])"
   ]
  },
  {
   "cell_type": "code",
   "execution_count": null,
   "id": "6f1bb6dd",
   "metadata": {},
   "outputs": [],
   "source": []
  },
  {
   "cell_type": "markdown",
   "id": "f4832c25",
   "metadata": {},
   "source": [
    "### 3.4 Statistic of the numerical columns in the dataframe"
   ]
  },
  {
   "cell_type": "code",
   "execution_count": 8,
   "id": "b2aa2048",
   "metadata": {},
   "outputs": [
    {
     "name": "stdout",
     "output_type": "stream",
     "text": [
      "          drama_id         year       rating     episodes\n",
      "count  4980.000000  4980.000000  4980.000000  4980.000000\n",
      "mean   2490.500000  2017.270080     7.749759    22.033133\n",
      "std    1437.746501     5.426715     0.391569    20.444958\n",
      "min       1.000000  1966.000000     6.800000     1.000000\n",
      "25%    1245.750000  2015.000000     7.500000    10.000000\n",
      "50%    2490.500000  2019.000000     7.700000    16.000000\n",
      "75%    3735.250000  2021.000000     8.000000    26.000000\n",
      "max    4980.000000  2024.000000     9.200000   327.000000\n"
     ]
    }
   ],
   "source": [
    "print(df_dramas.describe())"
   ]
  },
  {
   "cell_type": "markdown",
   "id": "a1c1295e",
   "metadata": {},
   "source": [
    "### 3.5 Checking for various type of genres in the dataset"
   ]
  },
  {
   "cell_type": "code",
   "execution_count": 9,
   "id": "449e62c3",
   "metadata": {},
   "outputs": [
    {
     "data": {
      "text/plain": [
       "0            Romance,  Youth,  Drama,  Fantasy\n",
       "1                                 Life,  Drama\n",
       "2                       Action,  Youth,  Drama\n",
       "3             Romance,  Life,  Drama,  Medical\n",
       "4    Military,  Historical,  Drama,  Political\n",
       "Name: genre, dtype: object"
      ]
     },
     "execution_count": 9,
     "metadata": {},
     "output_type": "execute_result"
    }
   ],
   "source": [
    "genres = df_dramas['genre']\n",
    "genres.head()"
   ]
  },
  {
   "cell_type": "markdown",
   "id": "dffd74e2",
   "metadata": {},
   "source": [
    "### 3.6 Check the language type in the overview"
   ]
  },
  {
   "cell_type": "code",
   "execution_count": 10,
   "id": "5074e204",
   "metadata": {},
   "outputs": [
    {
     "data": {
      "text/plain": [
       "'Yeon Shi Eun is a model student who ranks at the top of his high school. Physically, Yeon Shi Eun appears weak, but by using his wits and psychology, he fights against the violence that takes place inside and outside of his school.  (Source: Asianwiki) ~~ Adapted from the webtoon “Weak Hero” (약한영웅) written by SeoPass (서패스) and illustrated by Kim Jin Seok (김진석). ~~ Release dates: Oct 7, 2022 (Festival) || Nov 18, 2022 (Online)'"
      ]
     },
     "execution_count": 10,
     "metadata": {},
     "output_type": "execute_result"
    }
   ],
   "source": [
    "df_dramas.overview[2]"
   ]
  },
  {
   "cell_type": "markdown",
   "id": "ffabd4f6",
   "metadata": {},
   "source": [
    "The findings reveal non-English characters that should be removed to avoid impacting the modeling process later on. This ensures the model's predictions remain accurate and reliable."
   ]
  },
  {
   "cell_type": "markdown",
   "id": "5d0184b6",
   "metadata": {},
   "source": [
    "#### Define a function to filter out non-English characters"
   ]
  },
  {
   "cell_type": "code",
   "execution_count": 11,
   "id": "f82519d5",
   "metadata": {},
   "outputs": [],
   "source": [
    "def keep_english(text):\n",
    "    # Regular expression to match English alphabets, whitespace, and punctuation\n",
    "    english_pattern = re.compile(r'[a-zA-Z\\s.,!?]')\n",
    "    # Use regular expression to filter out non-English characters\n",
    "    english_text = ''.join(english_pattern.findall(text))\n",
    "    return english_text"
   ]
  },
  {
   "cell_type": "markdown",
   "id": "f22779fe",
   "metadata": {},
   "source": [
    "#### Apply the function to the 'overview' column"
   ]
  },
  {
   "cell_type": "code",
   "execution_count": 12,
   "id": "7c89f464",
   "metadata": {},
   "outputs": [],
   "source": [
    "df_dramas['overview'] = df_dramas['overview'].astype(str)\n",
    "df_dramas['overview'] = df_dramas['overview'].apply(keep_english)"
   ]
  },
  {
   "cell_type": "code",
   "execution_count": 13,
   "id": "90cb243e",
   "metadata": {},
   "outputs": [
    {
     "data": {
      "text/plain": [
       "'Yeon Shi Eun is a model student who ranks at the top of his high school. Physically, Yeon Shi Eun appears weak, but by using his wits and psychology, he fights against the violence that takes place inside and outside of his school.  Source Asianwiki  Adapted from the webtoon Weak Hero  written by SeoPass  and illustrated by Kim Jin Seok .  Release dates Oct ,  Festival  Nov ,  Online'"
      ]
     },
     "execution_count": 13,
     "metadata": {},
     "output_type": "execute_result"
    }
   ],
   "source": [
    "df_dramas.overview[2]"
   ]
  },
  {
   "cell_type": "markdown",
   "id": "5e94acf1",
   "metadata": {},
   "source": [
    "#### Define a function to remove \"Source\" and the following words after it"
   ]
  },
  {
   "cell_type": "code",
   "execution_count": 14,
   "id": "fefb6816",
   "metadata": {},
   "outputs": [],
   "source": [
    "def remove_source(text):\n",
    "    # Find the index of the word \"Source\"\n",
    "    index = text.find(\"Source\")\n",
    "    # If \"Source\" is found, return the substring before it, otherwise return the original text\n",
    "    return text[:index] if index != -1 else text"
   ]
  },
  {
   "cell_type": "markdown",
   "id": "bf2a7fd6",
   "metadata": {},
   "source": [
    "#### Apply the function to the 'overview' column"
   ]
  },
  {
   "cell_type": "code",
   "execution_count": 15,
   "id": "894211eb",
   "metadata": {},
   "outputs": [],
   "source": [
    "df_dramas['overview'] = df_dramas['overview'].apply(remove_source)"
   ]
  },
  {
   "cell_type": "code",
   "execution_count": 16,
   "id": "6cf37f4d",
   "metadata": {},
   "outputs": [
    {
     "data": {
      "text/plain": [
       "'An unexplainable phenomena finds collegegoing student, Li Shi Qing, trapped in a neverending time loop where she is always stuck on a public service bus which is due to explode, bringing death  destruction to not only herself but to all on board.  Desperate to find a way to escape not only the time loop but her tragic fate, Shi Qing inadvertently drags fellow bus passenger Xiao He Yun into the time loop as well. Together they try to find a way to alter their fate by ensuring the bus arrives safely at its destination, but attempting to do so proves anything but easy. '"
      ]
     },
     "execution_count": 16,
     "metadata": {},
     "output_type": "execute_result"
    }
   ],
   "source": [
    "df_dramas.overview[10]"
   ]
  },
  {
   "cell_type": "markdown",
   "id": "202f0898",
   "metadata": {},
   "source": [
    "### 3.7 Data Visualization"
   ]
  },
  {
   "cell_type": "code",
   "execution_count": 17,
   "id": "5dd593bb",
   "metadata": {},
   "outputs": [
    {
     "data": {
      "image/png": "[encoded data removed]",
      "text/plain": [
       "<Figure size 1000x600 with 1 Axes>"
      ]
     },
     "metadata": {},
     "output_type": "display_data"
    }
   ],
   "source": [
    "# Plot the count of each drama type\n",
    "plt.figure(figsize=(10, 6))\n",
    "sns.countplot(data=df_dramas, x='drama_type', order=df_dramas['drama_type'].value_counts().index)\n",
    "plt.title('Count of Dramas by Type')\n",
    "plt.xlabel('Drama Type')\n",
    "plt.ylabel('Count')\n",
    "plt.xticks(rotation=45)\n",
    "plt.show()"
   ]
  },
  {
   "cell_type": "code",
   "execution_count": 18,
   "id": "c45950de",
   "metadata": {
    "scrolled": true
   },
   "outputs": [
    {
     "data": {
      "image/png": "[encoded data removed]",
      "text/plain": [
       "<Figure size 1000x600 with 1 Axes>"
      ]
     },
     "metadata": {},
     "output_type": "display_data"
    }
   ],
   "source": [
    "# Plot the count dramas per year\n",
    "plt.figure(figsize=(10, 6))\n",
    "sns.countplot(data=df_dramas, x='year', order=df_dramas['year'].value_counts().index)\n",
    "plt.title('Count of Dramas by Year')\n",
    "plt.xlabel('Year')\n",
    "plt.ylabel('Count')\n",
    "plt.xticks(rotation=45)\n",
    "plt.show()"
   ]
  },
  {
   "cell_type": "markdown",
   "id": "34e677ea",
   "metadata": {},
   "source": [
    "## 4. Data Preparation"
   ]
  },
  {
   "cell_type": "markdown",
   "id": "aecb5631",
   "metadata": {},
   "source": [
    "### 4.1 Cleaning the data"
   ]
  },
  {
   "cell_type": "markdown",
   "id": "a8119968",
   "metadata": {},
   "source": [
    "#### Remove \\n\\n from the 'title' column values"
   ]
  },
  {
   "cell_type": "code",
   "execution_count": 19,
   "id": "65264176",
   "metadata": {},
   "outputs": [],
   "source": [
    "df_dramas['title'] = df_dramas['title'].str.replace('\\n\\n', '')"
   ]
  },
  {
   "cell_type": "code",
   "execution_count": 20,
   "id": "4cf2f41c",
   "metadata": {},
   "outputs": [
    {
     "name": "stdout",
     "output_type": "stream",
     "text": [
      "   drama_id                       title     drama_type  year  rating  \\\n",
      "0         1        Twinkling Watermelon   Korean Drama  2023     9.2   \n",
      "1         2              Move to Heaven   Korean Drama  2021     9.1   \n",
      "2         3           Weak Hero Class 1   Korean Drama  2022     9.1   \n",
      "3         4  Hospital Playlist Season 2   Korean Drama  2021     9.1   \n",
      "4         5             Nirvana in Fire  Chinese Drama  2015     9.1   \n",
      "\n",
      "   episodes                                                url  \\\n",
      "0        16  https://mydramalist.com/739603-sparkling-water...   \n",
      "1        10       https://mydramalist.com/49231-move-to-heaven   \n",
      "2         8           https://mydramalist.com/702267-weak-hero   \n",
      "3        12  https://mydramalist.com/57173-hospital-playlist-2   \n",
      "4        54       https://mydramalist.com/9025-nirvana-in-fire   \n",
      "\n",
      "                                       genre  \\\n",
      "0          Romance,  Youth,  Drama,  Fantasy   \n",
      "1                               Life,  Drama   \n",
      "2                     Action,  Youth,  Drama   \n",
      "3           Romance,  Life,  Drama,  Medical   \n",
      "4  Military,  Historical,  Drama,  Political   \n",
      "\n",
      "                                            overview  \\\n",
      "0  In , Eun Gyeol is a CODA Child of Deaf Adults ...   \n",
      "1  Han Geu Roo is an autistic yearold. He works f...   \n",
      "2  Yeon Shi Eun is a model student who ranks at t...   \n",
      "3  Everyday is extraordinary for five doctors and...   \n",
      "4  In sixthcentury China, the Emperor of Great Li...   \n",
      "\n",
      "                                                 tag  \\\n",
      "0  Time Travel, Child From The Future, Sign Langu...   \n",
      "1  Uncle-Nephew Relationship, Autism, Death, Tear...   \n",
      "2  Skilled Fighter, Violence, Adapted From A Webt...   \n",
      "3  Multiple Mains, Band, Music, Multiple Couples,...   \n",
      "4  Power Struggle, Smart Male Lead, Hidden Identi...   \n",
      "\n",
      "                                           main_cast      country  \\\n",
      "0  Ryeoun, Choi Hyun Wook, Seol In Ah, Shin Eun S...  South Korea   \n",
      "1  Lee Je Hoon, Tang Jun Sang, Hong Seung Hee, Ju...  South Korea   \n",
      "2  Park Ji Hoon, Choi Hyun Wook, Hong Kyung, Kim ...  South Korea   \n",
      "3  Jo Jung Suk, Yoo Yeon Seok, Jung Kyung Ho, Kim...  South Korea   \n",
      "4  Hu Ge, Liu Tao, Wang Kai, Chen Long, Victor Hu...        China   \n",
      "\n",
      "                         aired  \\\n",
      "0  Sep 25, 2023 - Nov 14, 2023   \n",
      "1                 May 14, 2021   \n",
      "2                 Nov 18, 2022   \n",
      "3  Jun 17, 2021 - Sep 16, 2021   \n",
      "4  Sep 19, 2015 - Oct 15, 2015   \n",
      "\n",
      "                                            aired_on original_network  \\\n",
      "0                                    Monday, Tuesday      TVING,  tvN   \n",
      "1                                             Friday          Netflix   \n",
      "2                                             Friday            Wavve   \n",
      "3                                           Thursday    Netflix,  tvN   \n",
      "4  Monday, Tuesday, Wednesday, Thursday, Friday, ...              BTV   \n",
      "\n",
      "        duration                         content_rating  \\\n",
      "0  1 hr. 10 min.                15+ - Teens 15 or older   \n",
      "1        52 min.  18+ Restricted (violence & profanity)   \n",
      "2        40 min.  18+ Restricted (violence & profanity)   \n",
      "3  1 hr. 40 min.                15+ - Teens 15 or older   \n",
      "4        45 min.                13+ - Teens 13 or older   \n",
      "\n",
      "                                     image_url  \n",
      "0  https://i.mydramalist.com/2w44jE_4c.jpg?v=1  \n",
      "1   https://i.mydramalist.com/Rle36_4c.jpg?v=1  \n",
      "2   https://i.mydramalist.com/pq2lr_4c.jpg?v=1  \n",
      "3   https://i.mydramalist.com/dKY0d_4c.jpg?v=1  \n",
      "4     https://i.mydramalist.com/kV54dc.jpg?v=1  \n"
     ]
    }
   ],
   "source": [
    "print(df_dramas.head())"
   ]
  },
  {
   "cell_type": "markdown",
   "id": "91fb59d7",
   "metadata": {},
   "source": [
    "### 4.2 Replacing null values in 'overview' column with 'No overview available'"
   ]
  },
  {
   "cell_type": "code",
   "execution_count": 21,
   "id": "ebb455a5",
   "metadata": {},
   "outputs": [],
   "source": [
    "df_dramas['overview'].fillna('No overview available', inplace=True)"
   ]
  },
  {
   "cell_type": "markdown",
   "id": "4ff63961",
   "metadata": {},
   "source": [
    "I've chosen to replace null values in the overview column with 'no overview available' because upon closer inspection, these dramas are older and by adding this description will give me a thorough and preceise data analysis."
   ]
  },
  {
   "cell_type": "markdown",
   "id": "2823b5ec",
   "metadata": {},
   "source": [
    "### 4.3 Replace null values in 'tag' column with the most common tag"
   ]
  },
  {
   "cell_type": "code",
   "execution_count": 22,
   "id": "e489aa73",
   "metadata": {},
   "outputs": [],
   "source": [
    "most_common_tag = df_dramas['tag'].mode()[0]\n",
    "df_dramas['tag'].fillna(most_common_tag, inplace=True)"
   ]
  },
  {
   "cell_type": "markdown",
   "id": "cf43cf84",
   "metadata": {},
   "source": [
    "Replacing null values in the 'tag' column with the most common tag helps maintain consistency and completeness in the dataset. This ensures that all entries have a relevant tag, facilitating better organization and analysis of the data."
   ]
  },
  {
   "cell_type": "code",
   "execution_count": 23,
   "id": "3986d221",
   "metadata": {},
   "outputs": [
    {
     "name": "stdout",
     "output_type": "stream",
     "text": [
      "drama_id              0\n",
      "title                 0\n",
      "drama_type            0\n",
      "year                  0\n",
      "rating                0\n",
      "episodes              0\n",
      "url                   0\n",
      "genre                 0\n",
      "overview              0\n",
      "tag                   0\n",
      "main_cast             0\n",
      "country               0\n",
      "aired                 0\n",
      "aired_on            190\n",
      "original_network    237\n",
      "duration              0\n",
      "content_rating        0\n",
      "image_url             0\n",
      "dtype: int64\n"
     ]
    }
   ],
   "source": [
    "#Check the dataset for null values after replacing them\n",
    "print(df_dramas.isnull().sum())"
   ]
  },
  {
   "cell_type": "code",
   "execution_count": 24,
   "id": "c676eda1",
   "metadata": {},
   "outputs": [
    {
     "data": {
      "text/plain": [
       "'Kim Do Geon, Yoo Hye In, Jung Shin Hye, Kim Hyun Mok, Kim Nu Ri, Steve Noh'"
      ]
     },
     "execution_count": 24,
     "metadata": {},
     "output_type": "execute_result"
    }
   ],
   "source": [
    "df_dramas['main_cast'][4467]"
   ]
  },
  {
   "cell_type": "code",
   "execution_count": null,
   "id": "7907e596",
   "metadata": {},
   "outputs": [],
   "source": []
  },
  {
   "cell_type": "markdown",
   "id": "c03a5f32",
   "metadata": {},
   "source": [
    "## 5. Selecting the data for modelling"
   ]
  },
  {
   "cell_type": "code",
   "execution_count": 25,
   "id": "eb171157",
   "metadata": {},
   "outputs": [],
   "source": [
    "dramas = df_dramas[['drama_id','title','overview','genre','tag','main_cast']]"
   ]
  },
  {
   "cell_type": "code",
   "execution_count": 26,
   "id": "8cd51df2",
   "metadata": {},
   "outputs": [
    {
     "data": {
      "text/html": [
       "<div>\n",
       "<style scoped>\n",
       "    .dataframe tbody tr th:only-of-type {\n",
       "        vertical-align: middle;\n",
       "    }\n",
       "\n",
       "    .dataframe tbody tr th {\n",
       "        vertical-align: top;\n",
       "    }\n",
       "\n",
       "    .dataframe thead th {\n",
       "        text-align: right;\n",
       "    }\n",
       "</style>\n",
       "<table border=\"1\" class=\"dataframe\">\n",
       "  <thead>\n",
       "    <tr style=\"text-align: right;\">\n",
       "      <th></th>\n",
       "      <th>drama_id</th>\n",
       "      <th>title</th>\n",
       "      <th>overview</th>\n",
       "      <th>genre</th>\n",
       "      <th>tag</th>\n",
       "      <th>main_cast</th>\n",
       "    </tr>\n",
       "  </thead>\n",
       "  <tbody>\n",
       "    <tr>\n",
       "      <th>0</th>\n",
       "      <td>1</td>\n",
       "      <td>Twinkling Watermelon</td>\n",
       "      <td>In , Eun Gyeol is a CODA Child of Deaf Adults ...</td>\n",
       "      <td>Romance,  Youth,  Drama,  Fantasy</td>\n",
       "      <td>Time Travel, Child From The Future, Sign Langu...</td>\n",
       "      <td>Ryeoun, Choi Hyun Wook, Seol In Ah, Shin Eun S...</td>\n",
       "    </tr>\n",
       "    <tr>\n",
       "      <th>1</th>\n",
       "      <td>2</td>\n",
       "      <td>Move to Heaven</td>\n",
       "      <td>Han Geu Roo is an autistic yearold. He works f...</td>\n",
       "      <td>Life,  Drama</td>\n",
       "      <td>Uncle-Nephew Relationship, Autism, Death, Tear...</td>\n",
       "      <td>Lee Je Hoon, Tang Jun Sang, Hong Seung Hee, Ju...</td>\n",
       "    </tr>\n",
       "    <tr>\n",
       "      <th>2</th>\n",
       "      <td>3</td>\n",
       "      <td>Weak Hero Class 1</td>\n",
       "      <td>Yeon Shi Eun is a model student who ranks at t...</td>\n",
       "      <td>Action,  Youth,  Drama</td>\n",
       "      <td>Skilled Fighter, Violence, Adapted From A Webt...</td>\n",
       "      <td>Park Ji Hoon, Choi Hyun Wook, Hong Kyung, Kim ...</td>\n",
       "    </tr>\n",
       "    <tr>\n",
       "      <th>3</th>\n",
       "      <td>4</td>\n",
       "      <td>Hospital Playlist Season 2</td>\n",
       "      <td>Everyday is extraordinary for five doctors and...</td>\n",
       "      <td>Romance,  Life,  Drama,  Medical</td>\n",
       "      <td>Multiple Mains, Band, Music, Multiple Couples,...</td>\n",
       "      <td>Jo Jung Suk, Yoo Yeon Seok, Jung Kyung Ho, Kim...</td>\n",
       "    </tr>\n",
       "    <tr>\n",
       "      <th>4</th>\n",
       "      <td>5</td>\n",
       "      <td>Nirvana in Fire</td>\n",
       "      <td>In sixthcentury China, the Emperor of Great Li...</td>\n",
       "      <td>Military,  Historical,  Drama,  Political</td>\n",
       "      <td>Power Struggle, Smart Male Lead, Hidden Identi...</td>\n",
       "      <td>Hu Ge, Liu Tao, Wang Kai, Chen Long, Victor Hu...</td>\n",
       "    </tr>\n",
       "  </tbody>\n",
       "</table>\n",
       "</div>"
      ],
      "text/plain": [
       "   drama_id                       title  \\\n",
       "0         1        Twinkling Watermelon   \n",
       "1         2              Move to Heaven   \n",
       "2         3           Weak Hero Class 1   \n",
       "3         4  Hospital Playlist Season 2   \n",
       "4         5             Nirvana in Fire   \n",
       "\n",
       "                                            overview  \\\n",
       "0  In , Eun Gyeol is a CODA Child of Deaf Adults ...   \n",
       "1  Han Geu Roo is an autistic yearold. He works f...   \n",
       "2  Yeon Shi Eun is a model student who ranks at t...   \n",
       "3  Everyday is extraordinary for five doctors and...   \n",
       "4  In sixthcentury China, the Emperor of Great Li...   \n",
       "\n",
       "                                       genre  \\\n",
       "0          Romance,  Youth,  Drama,  Fantasy   \n",
       "1                               Life,  Drama   \n",
       "2                     Action,  Youth,  Drama   \n",
       "3           Romance,  Life,  Drama,  Medical   \n",
       "4  Military,  Historical,  Drama,  Political   \n",
       "\n",
       "                                                 tag  \\\n",
       "0  Time Travel, Child From The Future, Sign Langu...   \n",
       "1  Uncle-Nephew Relationship, Autism, Death, Tear...   \n",
       "2  Skilled Fighter, Violence, Adapted From A Webt...   \n",
       "3  Multiple Mains, Band, Music, Multiple Couples,...   \n",
       "4  Power Struggle, Smart Male Lead, Hidden Identi...   \n",
       "\n",
       "                                           main_cast  \n",
       "0  Ryeoun, Choi Hyun Wook, Seol In Ah, Shin Eun S...  \n",
       "1  Lee Je Hoon, Tang Jun Sang, Hong Seung Hee, Ju...  \n",
       "2  Park Ji Hoon, Choi Hyun Wook, Hong Kyung, Kim ...  \n",
       "3  Jo Jung Suk, Yoo Yeon Seok, Jung Kyung Ho, Kim...  \n",
       "4  Hu Ge, Liu Tao, Wang Kai, Chen Long, Victor Hu...  "
      ]
     },
     "execution_count": 26,
     "metadata": {},
     "output_type": "execute_result"
    }
   ],
   "source": [
    "dramas.head()"
   ]
  },
  {
   "cell_type": "markdown",
   "id": "a120966b",
   "metadata": {},
   "source": [
    "## 6. Construct the data"
   ]
  },
  {
   "cell_type": "markdown",
   "id": "c7affd5a",
   "metadata": {},
   "source": [
    "### 6.1 Convert overview into a list of words"
   ]
  },
  {
   "cell_type": "code",
   "execution_count": 27,
   "id": "4cdc75de",
   "metadata": {},
   "outputs": [
    {
     "name": "stderr",
     "output_type": "stream",
     "text": [
      "C:\\Users\\noorh\\AppData\\Local\\Temp\\ipykernel_52760\\648709939.py:1: SettingWithCopyWarning: \n",
      "A value is trying to be set on a copy of a slice from a DataFrame.\n",
      "Try using .loc[row_indexer,col_indexer] = value instead\n",
      "\n",
      "See the caveats in the documentation: https://pandas.pydata.org/pandas-docs/stable/user_guide/indexing.html#returning-a-view-versus-a-copy\n",
      "  dramas['overview'] = dramas['overview'].apply(lambda x: x.split())\n"
     ]
    }
   ],
   "source": [
    "dramas['overview'] = dramas['overview'].apply(lambda x: x.split())"
   ]
  },
  {
   "cell_type": "code",
   "execution_count": 28,
   "id": "f0566762",
   "metadata": {},
   "outputs": [
    {
     "data": {
      "text/plain": [
       "['Shen',\n",
       " 'Qin,',\n",
       " 'the',\n",
       " 'Prime',\n",
       " 'Ministers',\n",
       " 'daughter,',\n",
       " 'is',\n",
       " 'due',\n",
       " 'to',\n",
       " 'be',\n",
       " 'married',\n",
       " 'to',\n",
       " 'a',\n",
       " 'powerful',\n",
       " 'general,',\n",
       " 'Xiao',\n",
       " 'Han',\n",
       " 'Sheng,',\n",
       " 'but',\n",
       " 'she',\n",
       " 'is',\n",
       " 'already',\n",
       " 'in',\n",
       " 'love',\n",
       " 'with',\n",
       " 'another',\n",
       " 'man,',\n",
       " 'Prince',\n",
       " 'Ning.',\n",
       " 'In',\n",
       " 'a',\n",
       " 'nefarious',\n",
       " 'bid',\n",
       " 'to',\n",
       " 'disentangle',\n",
       " 'herself',\n",
       " 'from',\n",
       " 'this',\n",
       " 'marriage,',\n",
       " 'Shen',\n",
       " 'Qin',\n",
       " 'traps',\n",
       " 'a',\n",
       " 'female',\n",
       " 'artist,',\n",
       " 'Shi',\n",
       " 'Qi,',\n",
       " 'and',\n",
       " 'uses',\n",
       " 'a',\n",
       " 'magician',\n",
       " 'to',\n",
       " 'perform',\n",
       " 'a',\n",
       " 'type',\n",
       " 'of',\n",
       " 'sorcery',\n",
       " 'that',\n",
       " 'enables',\n",
       " 'the',\n",
       " 'two',\n",
       " 'ladies',\n",
       " 'to',\n",
       " 'swap',\n",
       " 'faces.',\n",
       " 'Shi',\n",
       " 'Qi',\n",
       " 'wakes',\n",
       " 'up',\n",
       " 'with',\n",
       " 'her',\n",
       " 'face',\n",
       " 'now',\n",
       " 'belonging',\n",
       " 'to',\n",
       " 'the',\n",
       " 'Prime',\n",
       " 'Ministers',\n",
       " 'daughter',\n",
       " 'and',\n",
       " 'is',\n",
       " 'blackmailed',\n",
       " 'by',\n",
       " 'Shen',\n",
       " 'Qin',\n",
       " 'into',\n",
       " 'marrying',\n",
       " 'Xiao',\n",
       " 'Han',\n",
       " 'Sheng.',\n",
       " 'To',\n",
       " 'her',\n",
       " 'surprise,',\n",
       " 'she',\n",
       " 'recognises',\n",
       " 'Xiao',\n",
       " 'Han',\n",
       " 'Sheng',\n",
       " 'from',\n",
       " 'an',\n",
       " 'old',\n",
       " 'encounter',\n",
       " 'in',\n",
       " 'the',\n",
       " 'past.',\n",
       " 'Conflicted,',\n",
       " 'she',\n",
       " 'has',\n",
       " 'to',\n",
       " 'carry',\n",
       " 'out',\n",
       " 'a',\n",
       " 'charade',\n",
       " 'as',\n",
       " 'his',\n",
       " 'wife,',\n",
       " 'Shen',\n",
       " 'Qin,',\n",
       " 'and',\n",
       " 'matters',\n",
       " 'get',\n",
       " 'complicated',\n",
       " 'when',\n",
       " 'Prince',\n",
       " 'Ning',\n",
       " 'also',\n",
       " 'starts',\n",
       " 'getting',\n",
       " 'interested',\n",
       " 'in',\n",
       " 'her.']"
      ]
     },
     "execution_count": 28,
     "metadata": {},
     "output_type": "execute_result"
    }
   ],
   "source": [
    "dramas.overview[400]"
   ]
  },
  {
   "cell_type": "code",
   "execution_count": 29,
   "id": "4dd9ce66",
   "metadata": {},
   "outputs": [
    {
     "data": {
      "text/html": [
       "<div>\n",
       "<style scoped>\n",
       "    .dataframe tbody tr th:only-of-type {\n",
       "        vertical-align: middle;\n",
       "    }\n",
       "\n",
       "    .dataframe tbody tr th {\n",
       "        vertical-align: top;\n",
       "    }\n",
       "\n",
       "    .dataframe thead th {\n",
       "        text-align: right;\n",
       "    }\n",
       "</style>\n",
       "<table border=\"1\" class=\"dataframe\">\n",
       "  <thead>\n",
       "    <tr style=\"text-align: right;\">\n",
       "      <th></th>\n",
       "      <th>drama_id</th>\n",
       "      <th>title</th>\n",
       "      <th>overview</th>\n",
       "      <th>genre</th>\n",
       "      <th>tag</th>\n",
       "      <th>main_cast</th>\n",
       "    </tr>\n",
       "  </thead>\n",
       "  <tbody>\n",
       "    <tr>\n",
       "      <th>0</th>\n",
       "      <td>1</td>\n",
       "      <td>Twinkling Watermelon</td>\n",
       "      <td>[In, ,, Eun, Gyeol, is, a, CODA, Child, of, De...</td>\n",
       "      <td>Romance,  Youth,  Drama,  Fantasy</td>\n",
       "      <td>Time Travel, Child From The Future, Sign Langu...</td>\n",
       "      <td>Ryeoun, Choi Hyun Wook, Seol In Ah, Shin Eun S...</td>\n",
       "    </tr>\n",
       "    <tr>\n",
       "      <th>1</th>\n",
       "      <td>2</td>\n",
       "      <td>Move to Heaven</td>\n",
       "      <td>[Han, Geu, Roo, is, an, autistic, yearold., He...</td>\n",
       "      <td>Life,  Drama</td>\n",
       "      <td>Uncle-Nephew Relationship, Autism, Death, Tear...</td>\n",
       "      <td>Lee Je Hoon, Tang Jun Sang, Hong Seung Hee, Ju...</td>\n",
       "    </tr>\n",
       "    <tr>\n",
       "      <th>2</th>\n",
       "      <td>3</td>\n",
       "      <td>Weak Hero Class 1</td>\n",
       "      <td>[Yeon, Shi, Eun, is, a, model, student, who, r...</td>\n",
       "      <td>Action,  Youth,  Drama</td>\n",
       "      <td>Skilled Fighter, Violence, Adapted From A Webt...</td>\n",
       "      <td>Park Ji Hoon, Choi Hyun Wook, Hong Kyung, Kim ...</td>\n",
       "    </tr>\n",
       "    <tr>\n",
       "      <th>3</th>\n",
       "      <td>4</td>\n",
       "      <td>Hospital Playlist Season 2</td>\n",
       "      <td>[Everyday, is, extraordinary, for, five, docto...</td>\n",
       "      <td>Romance,  Life,  Drama,  Medical</td>\n",
       "      <td>Multiple Mains, Band, Music, Multiple Couples,...</td>\n",
       "      <td>Jo Jung Suk, Yoo Yeon Seok, Jung Kyung Ho, Kim...</td>\n",
       "    </tr>\n",
       "    <tr>\n",
       "      <th>4</th>\n",
       "      <td>5</td>\n",
       "      <td>Nirvana in Fire</td>\n",
       "      <td>[In, sixthcentury, China,, the, Emperor, of, G...</td>\n",
       "      <td>Military,  Historical,  Drama,  Political</td>\n",
       "      <td>Power Struggle, Smart Male Lead, Hidden Identi...</td>\n",
       "      <td>Hu Ge, Liu Tao, Wang Kai, Chen Long, Victor Hu...</td>\n",
       "    </tr>\n",
       "  </tbody>\n",
       "</table>\n",
       "</div>"
      ],
      "text/plain": [
       "   drama_id                       title  \\\n",
       "0         1        Twinkling Watermelon   \n",
       "1         2              Move to Heaven   \n",
       "2         3           Weak Hero Class 1   \n",
       "3         4  Hospital Playlist Season 2   \n",
       "4         5             Nirvana in Fire   \n",
       "\n",
       "                                            overview  \\\n",
       "0  [In, ,, Eun, Gyeol, is, a, CODA, Child, of, De...   \n",
       "1  [Han, Geu, Roo, is, an, autistic, yearold., He...   \n",
       "2  [Yeon, Shi, Eun, is, a, model, student, who, r...   \n",
       "3  [Everyday, is, extraordinary, for, five, docto...   \n",
       "4  [In, sixthcentury, China,, the, Emperor, of, G...   \n",
       "\n",
       "                                       genre  \\\n",
       "0          Romance,  Youth,  Drama,  Fantasy   \n",
       "1                               Life,  Drama   \n",
       "2                     Action,  Youth,  Drama   \n",
       "3           Romance,  Life,  Drama,  Medical   \n",
       "4  Military,  Historical,  Drama,  Political   \n",
       "\n",
       "                                                 tag  \\\n",
       "0  Time Travel, Child From The Future, Sign Langu...   \n",
       "1  Uncle-Nephew Relationship, Autism, Death, Tear...   \n",
       "2  Skilled Fighter, Violence, Adapted From A Webt...   \n",
       "3  Multiple Mains, Band, Music, Multiple Couples,...   \n",
       "4  Power Struggle, Smart Male Lead, Hidden Identi...   \n",
       "\n",
       "                                           main_cast  \n",
       "0  Ryeoun, Choi Hyun Wook, Seol In Ah, Shin Eun S...  \n",
       "1  Lee Je Hoon, Tang Jun Sang, Hong Seung Hee, Ju...  \n",
       "2  Park Ji Hoon, Choi Hyun Wook, Hong Kyung, Kim ...  \n",
       "3  Jo Jung Suk, Yoo Yeon Seok, Jung Kyung Ho, Kim...  \n",
       "4  Hu Ge, Liu Tao, Wang Kai, Chen Long, Victor Hu...  "
      ]
     },
     "execution_count": 29,
     "metadata": {},
     "output_type": "execute_result"
    }
   ],
   "source": [
    "dramas.head()"
   ]
  },
  {
   "cell_type": "markdown",
   "id": "6b033849",
   "metadata": {},
   "source": [
    "Turning the overview text into a list of words helps the recommender system. Each word then becomes a feature that the system can use to understand the content of the overview and make better recommendations."
   ]
  },
  {
   "cell_type": "markdown",
   "id": "6815e4d4",
   "metadata": {},
   "source": [
    "### 6.2 Removing space for the column values"
   ]
  },
  {
   "cell_type": "code",
   "execution_count": 30,
   "id": "58ddc162",
   "metadata": {},
   "outputs": [
    {
     "data": {
      "text/plain": [
       "'Time Travel, Child From The Future, Sign Language, Father-Son Relationship, Deafness, 1990s, Music, Coming Of Age, Friendship, Comedy'"
      ]
     },
     "execution_count": 30,
     "metadata": {},
     "output_type": "execute_result"
    }
   ],
   "source": [
    "dramas.tag[0]"
   ]
  },
  {
   "cell_type": "code",
   "execution_count": 31,
   "id": "bc3fdd1d",
   "metadata": {},
   "outputs": [
    {
     "name": "stderr",
     "output_type": "stream",
     "text": [
      "C:\\Users\\noorh\\AppData\\Local\\Temp\\ipykernel_52760\\1995321294.py:1: SettingWithCopyWarning: \n",
      "A value is trying to be set on a copy of a slice from a DataFrame.\n",
      "Try using .loc[row_indexer,col_indexer] = value instead\n",
      "\n",
      "See the caveats in the documentation: https://pandas.pydata.org/pandas-docs/stable/user_guide/indexing.html#returning-a-view-versus-a-copy\n",
      "  dramas['tag'] = dramas['tag'].apply(lambda x: x.replace(\" \", \"\"))\n",
      "C:\\Users\\noorh\\AppData\\Local\\Temp\\ipykernel_52760\\1995321294.py:2: SettingWithCopyWarning: \n",
      "A value is trying to be set on a copy of a slice from a DataFrame.\n",
      "Try using .loc[row_indexer,col_indexer] = value instead\n",
      "\n",
      "See the caveats in the documentation: https://pandas.pydata.org/pandas-docs/stable/user_guide/indexing.html#returning-a-view-versus-a-copy\n",
      "  dramas['main_cast'] = dramas['main_cast'].apply(lambda x: x.replace(\" \", \"\"))\n"
     ]
    }
   ],
   "source": [
    "dramas['tag'] = dramas['tag'].apply(lambda x: x.replace(\" \", \"\"))\n",
    "dramas['main_cast'] = dramas['main_cast'].apply(lambda x: x.replace(\" \", \"\"))"
   ]
  },
  {
   "cell_type": "code",
   "execution_count": 32,
   "id": "383f35d0",
   "metadata": {},
   "outputs": [
    {
     "data": {
      "text/html": [
       "<div>\n",
       "<style scoped>\n",
       "    .dataframe tbody tr th:only-of-type {\n",
       "        vertical-align: middle;\n",
       "    }\n",
       "\n",
       "    .dataframe tbody tr th {\n",
       "        vertical-align: top;\n",
       "    }\n",
       "\n",
       "    .dataframe thead th {\n",
       "        text-align: right;\n",
       "    }\n",
       "</style>\n",
       "<table border=\"1\" class=\"dataframe\">\n",
       "  <thead>\n",
       "    <tr style=\"text-align: right;\">\n",
       "      <th></th>\n",
       "      <th>drama_id</th>\n",
       "      <th>title</th>\n",
       "      <th>overview</th>\n",
       "      <th>genre</th>\n",
       "      <th>tag</th>\n",
       "      <th>main_cast</th>\n",
       "    </tr>\n",
       "  </thead>\n",
       "  <tbody>\n",
       "    <tr>\n",
       "      <th>0</th>\n",
       "      <td>1</td>\n",
       "      <td>Twinkling Watermelon</td>\n",
       "      <td>[In, ,, Eun, Gyeol, is, a, CODA, Child, of, De...</td>\n",
       "      <td>Romance,  Youth,  Drama,  Fantasy</td>\n",
       "      <td>TimeTravel,ChildFromTheFuture,SignLanguage,Fat...</td>\n",
       "      <td>Ryeoun,ChoiHyunWook,SeolInAh,ShinEunSoo,KimJoo...</td>\n",
       "    </tr>\n",
       "    <tr>\n",
       "      <th>1</th>\n",
       "      <td>2</td>\n",
       "      <td>Move to Heaven</td>\n",
       "      <td>[Han, Geu, Roo, is, an, autistic, yearold., He...</td>\n",
       "      <td>Life,  Drama</td>\n",
       "      <td>Uncle-NephewRelationship,Autism,Death,Tearjerk...</td>\n",
       "      <td>LeeJeHoon,TangJunSang,HongSeungHee,JungSukYong...</td>\n",
       "    </tr>\n",
       "    <tr>\n",
       "      <th>2</th>\n",
       "      <td>3</td>\n",
       "      <td>Weak Hero Class 1</td>\n",
       "      <td>[Yeon, Shi, Eun, is, a, model, student, who, r...</td>\n",
       "      <td>Action,  Youth,  Drama</td>\n",
       "      <td>SkilledFighter,Violence,AdaptedFromAWebtoon,Fr...</td>\n",
       "      <td>ParkJiHoon,ChoiHyunWook,HongKyung,KimSuGyeom,L...</td>\n",
       "    </tr>\n",
       "    <tr>\n",
       "      <th>3</th>\n",
       "      <td>4</td>\n",
       "      <td>Hospital Playlist Season 2</td>\n",
       "      <td>[Everyday, is, extraordinary, for, five, docto...</td>\n",
       "      <td>Romance,  Life,  Drama,  Medical</td>\n",
       "      <td>MultipleMains,Band,Music,MultipleCouples,Comed...</td>\n",
       "      <td>JoJungSuk,YooYeonSeok,JungKyungHo,KimDaeMyung,...</td>\n",
       "    </tr>\n",
       "    <tr>\n",
       "      <th>4</th>\n",
       "      <td>5</td>\n",
       "      <td>Nirvana in Fire</td>\n",
       "      <td>[In, sixthcentury, China,, the, Emperor, of, G...</td>\n",
       "      <td>Military,  Historical,  Drama,  Political</td>\n",
       "      <td>PowerStruggle,SmartMaleLead,HiddenIdentity,Sch...</td>\n",
       "      <td>HuGe,LiuTao,WangKai,ChenLong,VictorHuang,DingY...</td>\n",
       "    </tr>\n",
       "  </tbody>\n",
       "</table>\n",
       "</div>"
      ],
      "text/plain": [
       "   drama_id                       title  \\\n",
       "0         1        Twinkling Watermelon   \n",
       "1         2              Move to Heaven   \n",
       "2         3           Weak Hero Class 1   \n",
       "3         4  Hospital Playlist Season 2   \n",
       "4         5             Nirvana in Fire   \n",
       "\n",
       "                                            overview  \\\n",
       "0  [In, ,, Eun, Gyeol, is, a, CODA, Child, of, De...   \n",
       "1  [Han, Geu, Roo, is, an, autistic, yearold., He...   \n",
       "2  [Yeon, Shi, Eun, is, a, model, student, who, r...   \n",
       "3  [Everyday, is, extraordinary, for, five, docto...   \n",
       "4  [In, sixthcentury, China,, the, Emperor, of, G...   \n",
       "\n",
       "                                       genre  \\\n",
       "0          Romance,  Youth,  Drama,  Fantasy   \n",
       "1                               Life,  Drama   \n",
       "2                     Action,  Youth,  Drama   \n",
       "3           Romance,  Life,  Drama,  Medical   \n",
       "4  Military,  Historical,  Drama,  Political   \n",
       "\n",
       "                                                 tag  \\\n",
       "0  TimeTravel,ChildFromTheFuture,SignLanguage,Fat...   \n",
       "1  Uncle-NephewRelationship,Autism,Death,Tearjerk...   \n",
       "2  SkilledFighter,Violence,AdaptedFromAWebtoon,Fr...   \n",
       "3  MultipleMains,Band,Music,MultipleCouples,Comed...   \n",
       "4  PowerStruggle,SmartMaleLead,HiddenIdentity,Sch...   \n",
       "\n",
       "                                           main_cast  \n",
       "0  Ryeoun,ChoiHyunWook,SeolInAh,ShinEunSoo,KimJoo...  \n",
       "1  LeeJeHoon,TangJunSang,HongSeungHee,JungSukYong...  \n",
       "2  ParkJiHoon,ChoiHyunWook,HongKyung,KimSuGyeom,L...  \n",
       "3  JoJungSuk,YooYeonSeok,JungKyungHo,KimDaeMyung,...  \n",
       "4  HuGe,LiuTao,WangKai,ChenLong,VictorHuang,DingY...  "
      ]
     },
     "execution_count": 32,
     "metadata": {},
     "output_type": "execute_result"
    }
   ],
   "source": [
    "dramas.head()"
   ]
  },
  {
   "cell_type": "markdown",
   "id": "da3fac3d",
   "metadata": {},
   "source": [
    "Taking out spaces from the column values cleans up the data, making it clearer. This helps the recommender system work better because it can focus on the important parts without being distracted by extra spaces. So, overall, getting rid of spaces improves how well the recommender system works by making things more consistent and accurate."
   ]
  },
  {
   "cell_type": "markdown",
   "id": "5cefd797",
   "metadata": {},
   "source": [
    "### 6.3 Concatenate the values"
   ]
  },
  {
   "cell_type": "code",
   "execution_count": 33,
   "id": "76abe600",
   "metadata": {},
   "outputs": [
    {
     "name": "stderr",
     "output_type": "stream",
     "text": [
      "C:\\Users\\noorh\\AppData\\Local\\Temp\\ipykernel_52760\\958313617.py:1: SettingWithCopyWarning: \n",
      "A value is trying to be set on a copy of a slice from a DataFrame.\n",
      "Try using .loc[row_indexer,col_indexer] = value instead\n",
      "\n",
      "See the caveats in the documentation: https://pandas.pydata.org/pandas-docs/stable/user_guide/indexing.html#returning-a-view-versus-a-copy\n",
      "  dramas['new_tags'] = dramas['overview'].astype(str) + dramas['genre'].astype(str) + dramas['tag'].astype(str) + dramas['main_cast'].astype(str)\n"
     ]
    }
   ],
   "source": [
    "dramas['new_tags'] = dramas['overview'].astype(str) + dramas['genre'].astype(str) + dramas['tag'].astype(str) + dramas['main_cast'].astype(str)"
   ]
  },
  {
   "cell_type": "code",
   "execution_count": 34,
   "id": "a605dd95",
   "metadata": {},
   "outputs": [
    {
     "data": {
      "text/html": [
       "<div>\n",
       "<style scoped>\n",
       "    .dataframe tbody tr th:only-of-type {\n",
       "        vertical-align: middle;\n",
       "    }\n",
       "\n",
       "    .dataframe tbody tr th {\n",
       "        vertical-align: top;\n",
       "    }\n",
       "\n",
       "    .dataframe thead th {\n",
       "        text-align: right;\n",
       "    }\n",
       "</style>\n",
       "<table border=\"1\" class=\"dataframe\">\n",
       "  <thead>\n",
       "    <tr style=\"text-align: right;\">\n",
       "      <th></th>\n",
       "      <th>drama_id</th>\n",
       "      <th>title</th>\n",
       "      <th>overview</th>\n",
       "      <th>genre</th>\n",
       "      <th>tag</th>\n",
       "      <th>main_cast</th>\n",
       "      <th>new_tags</th>\n",
       "    </tr>\n",
       "  </thead>\n",
       "  <tbody>\n",
       "    <tr>\n",
       "      <th>0</th>\n",
       "      <td>1</td>\n",
       "      <td>Twinkling Watermelon</td>\n",
       "      <td>[In, ,, Eun, Gyeol, is, a, CODA, Child, of, De...</td>\n",
       "      <td>Romance,  Youth,  Drama,  Fantasy</td>\n",
       "      <td>TimeTravel,ChildFromTheFuture,SignLanguage,Fat...</td>\n",
       "      <td>Ryeoun,ChoiHyunWook,SeolInAh,ShinEunSoo,KimJoo...</td>\n",
       "      <td>['In', ',', 'Eun', 'Gyeol', 'is', 'a', 'CODA',...</td>\n",
       "    </tr>\n",
       "    <tr>\n",
       "      <th>1</th>\n",
       "      <td>2</td>\n",
       "      <td>Move to Heaven</td>\n",
       "      <td>[Han, Geu, Roo, is, an, autistic, yearold., He...</td>\n",
       "      <td>Life,  Drama</td>\n",
       "      <td>Uncle-NephewRelationship,Autism,Death,Tearjerk...</td>\n",
       "      <td>LeeJeHoon,TangJunSang,HongSeungHee,JungSukYong...</td>\n",
       "      <td>['Han', 'Geu', 'Roo', 'is', 'an', 'autistic', ...</td>\n",
       "    </tr>\n",
       "    <tr>\n",
       "      <th>2</th>\n",
       "      <td>3</td>\n",
       "      <td>Weak Hero Class 1</td>\n",
       "      <td>[Yeon, Shi, Eun, is, a, model, student, who, r...</td>\n",
       "      <td>Action,  Youth,  Drama</td>\n",
       "      <td>SkilledFighter,Violence,AdaptedFromAWebtoon,Fr...</td>\n",
       "      <td>ParkJiHoon,ChoiHyunWook,HongKyung,KimSuGyeom,L...</td>\n",
       "      <td>['Yeon', 'Shi', 'Eun', 'is', 'a', 'model', 'st...</td>\n",
       "    </tr>\n",
       "    <tr>\n",
       "      <th>3</th>\n",
       "      <td>4</td>\n",
       "      <td>Hospital Playlist Season 2</td>\n",
       "      <td>[Everyday, is, extraordinary, for, five, docto...</td>\n",
       "      <td>Romance,  Life,  Drama,  Medical</td>\n",
       "      <td>MultipleMains,Band,Music,MultipleCouples,Comed...</td>\n",
       "      <td>JoJungSuk,YooYeonSeok,JungKyungHo,KimDaeMyung,...</td>\n",
       "      <td>['Everyday', 'is', 'extraordinary', 'for', 'fi...</td>\n",
       "    </tr>\n",
       "    <tr>\n",
       "      <th>4</th>\n",
       "      <td>5</td>\n",
       "      <td>Nirvana in Fire</td>\n",
       "      <td>[In, sixthcentury, China,, the, Emperor, of, G...</td>\n",
       "      <td>Military,  Historical,  Drama,  Political</td>\n",
       "      <td>PowerStruggle,SmartMaleLead,HiddenIdentity,Sch...</td>\n",
       "      <td>HuGe,LiuTao,WangKai,ChenLong,VictorHuang,DingY...</td>\n",
       "      <td>['In', 'sixthcentury', 'China,', 'the', 'Emper...</td>\n",
       "    </tr>\n",
       "  </tbody>\n",
       "</table>\n",
       "</div>"
      ],
      "text/plain": [
       "   drama_id                       title  \\\n",
       "0         1        Twinkling Watermelon   \n",
       "1         2              Move to Heaven   \n",
       "2         3           Weak Hero Class 1   \n",
       "3         4  Hospital Playlist Season 2   \n",
       "4         5             Nirvana in Fire   \n",
       "\n",
       "                                            overview  \\\n",
       "0  [In, ,, Eun, Gyeol, is, a, CODA, Child, of, De...   \n",
       "1  [Han, Geu, Roo, is, an, autistic, yearold., He...   \n",
       "2  [Yeon, Shi, Eun, is, a, model, student, who, r...   \n",
       "3  [Everyday, is, extraordinary, for, five, docto...   \n",
       "4  [In, sixthcentury, China,, the, Emperor, of, G...   \n",
       "\n",
       "                                       genre  \\\n",
       "0          Romance,  Youth,  Drama,  Fantasy   \n",
       "1                               Life,  Drama   \n",
       "2                     Action,  Youth,  Drama   \n",
       "3           Romance,  Life,  Drama,  Medical   \n",
       "4  Military,  Historical,  Drama,  Political   \n",
       "\n",
       "                                                 tag  \\\n",
       "0  TimeTravel,ChildFromTheFuture,SignLanguage,Fat...   \n",
       "1  Uncle-NephewRelationship,Autism,Death,Tearjerk...   \n",
       "2  SkilledFighter,Violence,AdaptedFromAWebtoon,Fr...   \n",
       "3  MultipleMains,Band,Music,MultipleCouples,Comed...   \n",
       "4  PowerStruggle,SmartMaleLead,HiddenIdentity,Sch...   \n",
       "\n",
       "                                           main_cast  \\\n",
       "0  Ryeoun,ChoiHyunWook,SeolInAh,ShinEunSoo,KimJoo...   \n",
       "1  LeeJeHoon,TangJunSang,HongSeungHee,JungSukYong...   \n",
       "2  ParkJiHoon,ChoiHyunWook,HongKyung,KimSuGyeom,L...   \n",
       "3  JoJungSuk,YooYeonSeok,JungKyungHo,KimDaeMyung,...   \n",
       "4  HuGe,LiuTao,WangKai,ChenLong,VictorHuang,DingY...   \n",
       "\n",
       "                                            new_tags  \n",
       "0  ['In', ',', 'Eun', 'Gyeol', 'is', 'a', 'CODA',...  \n",
       "1  ['Han', 'Geu', 'Roo', 'is', 'an', 'autistic', ...  \n",
       "2  ['Yeon', 'Shi', 'Eun', 'is', 'a', 'model', 'st...  \n",
       "3  ['Everyday', 'is', 'extraordinary', 'for', 'fi...  \n",
       "4  ['In', 'sixthcentury', 'China,', 'the', 'Emper...  "
      ]
     },
     "execution_count": 34,
     "metadata": {},
     "output_type": "execute_result"
    }
   ],
   "source": [
    "dramas.head()"
   ]
  },
  {
   "cell_type": "markdown",
   "id": "464552c6",
   "metadata": {},
   "source": [
    "Combining values from different columns enriches the context of each entry, expands the feature space, improves similarity calculation, and simplifies data input, enhancing the effectiveness of the recommender system."
   ]
  },
  {
   "cell_type": "markdown",
   "id": "d016489c",
   "metadata": {},
   "source": [
    "### 6.4 New Data Frame"
   ]
  },
  {
   "cell_type": "code",
   "execution_count": 35,
   "id": "7fd41bdd",
   "metadata": {},
   "outputs": [],
   "source": [
    "new_dramas_df = dramas[['drama_id','title','new_tags']]"
   ]
  },
  {
   "cell_type": "code",
   "execution_count": 36,
   "id": "26ac18c6",
   "metadata": {},
   "outputs": [
    {
     "data": {
      "text/plain": [
       "\"['In', ',', 'Eun', 'Gyeol', 'is', 'a', 'CODA', 'Child', 'of', 'Deaf', 'Adults', 'highschool', 'student,', 'but', 'he', 'has', 'a', 'passion', 'for', 'music.', 'During', 'the', 'day,', 'he', 'is', 'a', 'studious', 'model', 'pupil,', 'but', 'at', 'night,', 'he', 'rocks', 'out', 'as', 'a', 'guitarist', 'in', 'a', 'band.', 'But', 'when', 'he', 'stumbles', 'across', 'a', 'strange', 'yet', 'alluring', 'music', 'store,', 'he', 'goes', 'hurtling', 'back', 'in', 'time', 'to', '.', 'Here,', 'he', 'comes', 'face', 'to', 'face', 'with', 'his', 'father,', 'Ha', 'Yi', 'Chan', 'as', 'a', 'high', 'schooler!', 'Yi', 'Chan', 'takes', 'Eun', 'Gyeol', 'for', 'a', 'lunatic', 'when', 'the', 'latter', 'calls', 'him', 'dad.', 'Worse', 'still,', 'it', 'looks', 'like', 'Yi', 'Chan', 'has', 'a', 'crush', 'on', 'an', 'icy', 'cellist', 'named', 'Se', 'Kyeong', 'not', 'his', 'future', 'mother,', 'Cheong', 'Ah!', 'In', 'a', 'bid', 'to', 'put', 'things', 'right,', 'Eun', 'Gyeol', 'joins', 'a', 'band', 'fronted', 'by', 'his', 'future', 'father.', 'But', 'will', 'this', 'be', 'enough', 'to', 'help', 'Eun', 'Gyeol', 'bring', 'his', 'future', 'parents', 'together...', 'and', 'will', 'he', 'ever', 'get', 'back', 'to', 'the', 's?']Romance,  Youth,  Drama,  FantasyTimeTravel,ChildFromTheFuture,SignLanguage,Father-SonRelationship,Deafness,1990s,Music,ComingOfAge,Friendship,ComedyRyeoun,ChoiHyunWook,SeolInAh,ShinEunSoo,KimJooRyoung,BongJaeHyun\""
      ]
     },
     "execution_count": 36,
     "metadata": {},
     "output_type": "execute_result"
    }
   ],
   "source": [
    "new_dramas_df['new_tags'][0]"
   ]
  },
  {
   "cell_type": "code",
   "execution_count": 37,
   "id": "10df8b1d",
   "metadata": {},
   "outputs": [
    {
     "data": {
      "text/html": [
       "<div>\n",
       "<style scoped>\n",
       "    .dataframe tbody tr th:only-of-type {\n",
       "        vertical-align: middle;\n",
       "    }\n",
       "\n",
       "    .dataframe tbody tr th {\n",
       "        vertical-align: top;\n",
       "    }\n",
       "\n",
       "    .dataframe thead th {\n",
       "        text-align: right;\n",
       "    }\n",
       "</style>\n",
       "<table border=\"1\" class=\"dataframe\">\n",
       "  <thead>\n",
       "    <tr style=\"text-align: right;\">\n",
       "      <th></th>\n",
       "      <th>drama_id</th>\n",
       "      <th>title</th>\n",
       "      <th>new_tags</th>\n",
       "    </tr>\n",
       "  </thead>\n",
       "  <tbody>\n",
       "    <tr>\n",
       "      <th>0</th>\n",
       "      <td>1</td>\n",
       "      <td>Twinkling Watermelon</td>\n",
       "      <td>['In', ',', 'Eun', 'Gyeol', 'is', 'a', 'CODA',...</td>\n",
       "    </tr>\n",
       "    <tr>\n",
       "      <th>1</th>\n",
       "      <td>2</td>\n",
       "      <td>Move to Heaven</td>\n",
       "      <td>['Han', 'Geu', 'Roo', 'is', 'an', 'autistic', ...</td>\n",
       "    </tr>\n",
       "    <tr>\n",
       "      <th>2</th>\n",
       "      <td>3</td>\n",
       "      <td>Weak Hero Class 1</td>\n",
       "      <td>['Yeon', 'Shi', 'Eun', 'is', 'a', 'model', 'st...</td>\n",
       "    </tr>\n",
       "    <tr>\n",
       "      <th>3</th>\n",
       "      <td>4</td>\n",
       "      <td>Hospital Playlist Season 2</td>\n",
       "      <td>['Everyday', 'is', 'extraordinary', 'for', 'fi...</td>\n",
       "    </tr>\n",
       "    <tr>\n",
       "      <th>4</th>\n",
       "      <td>5</td>\n",
       "      <td>Nirvana in Fire</td>\n",
       "      <td>['In', 'sixthcentury', 'China,', 'the', 'Emper...</td>\n",
       "    </tr>\n",
       "  </tbody>\n",
       "</table>\n",
       "</div>"
      ],
      "text/plain": [
       "   drama_id                       title  \\\n",
       "0         1        Twinkling Watermelon   \n",
       "1         2              Move to Heaven   \n",
       "2         3           Weak Hero Class 1   \n",
       "3         4  Hospital Playlist Season 2   \n",
       "4         5             Nirvana in Fire   \n",
       "\n",
       "                                            new_tags  \n",
       "0  ['In', ',', 'Eun', 'Gyeol', 'is', 'a', 'CODA',...  \n",
       "1  ['Han', 'Geu', 'Roo', 'is', 'an', 'autistic', ...  \n",
       "2  ['Yeon', 'Shi', 'Eun', 'is', 'a', 'model', 'st...  \n",
       "3  ['Everyday', 'is', 'extraordinary', 'for', 'fi...  \n",
       "4  ['In', 'sixthcentury', 'China,', 'the', 'Emper...  "
      ]
     },
     "execution_count": 37,
     "metadata": {},
     "output_type": "execute_result"
    }
   ],
   "source": [
    "new_dramas_df.head()"
   ]
  },
  {
   "cell_type": "markdown",
   "id": "4248e13f",
   "metadata": {},
   "source": [
    "### 6.5 Change to lower case"
   ]
  },
  {
   "cell_type": "code",
   "execution_count": 38,
   "id": "60f9744b",
   "metadata": {},
   "outputs": [
    {
     "name": "stderr",
     "output_type": "stream",
     "text": [
      "C:\\Users\\noorh\\AppData\\Local\\Temp\\ipykernel_52760\\149169188.py:1: SettingWithCopyWarning: \n",
      "A value is trying to be set on a copy of a slice from a DataFrame.\n",
      "Try using .loc[row_indexer,col_indexer] = value instead\n",
      "\n",
      "See the caveats in the documentation: https://pandas.pydata.org/pandas-docs/stable/user_guide/indexing.html#returning-a-view-versus-a-copy\n",
      "  new_dramas_df['new_tags'] = new_dramas_df['new_tags'].apply(lambda x:x.lower())\n"
     ]
    }
   ],
   "source": [
    "new_dramas_df['new_tags'] = new_dramas_df['new_tags'].apply(lambda x:x.lower())"
   ]
  },
  {
   "cell_type": "code",
   "execution_count": 39,
   "id": "1efa7b09",
   "metadata": {},
   "outputs": [
    {
     "data": {
      "text/html": [
       "<div>\n",
       "<style scoped>\n",
       "    .dataframe tbody tr th:only-of-type {\n",
       "        vertical-align: middle;\n",
       "    }\n",
       "\n",
       "    .dataframe tbody tr th {\n",
       "        vertical-align: top;\n",
       "    }\n",
       "\n",
       "    .dataframe thead th {\n",
       "        text-align: right;\n",
       "    }\n",
       "</style>\n",
       "<table border=\"1\" class=\"dataframe\">\n",
       "  <thead>\n",
       "    <tr style=\"text-align: right;\">\n",
       "      <th></th>\n",
       "      <th>drama_id</th>\n",
       "      <th>title</th>\n",
       "      <th>new_tags</th>\n",
       "    </tr>\n",
       "  </thead>\n",
       "  <tbody>\n",
       "    <tr>\n",
       "      <th>0</th>\n",
       "      <td>1</td>\n",
       "      <td>Twinkling Watermelon</td>\n",
       "      <td>['in', ',', 'eun', 'gyeol', 'is', 'a', 'coda',...</td>\n",
       "    </tr>\n",
       "    <tr>\n",
       "      <th>1</th>\n",
       "      <td>2</td>\n",
       "      <td>Move to Heaven</td>\n",
       "      <td>['han', 'geu', 'roo', 'is', 'an', 'autistic', ...</td>\n",
       "    </tr>\n",
       "    <tr>\n",
       "      <th>2</th>\n",
       "      <td>3</td>\n",
       "      <td>Weak Hero Class 1</td>\n",
       "      <td>['yeon', 'shi', 'eun', 'is', 'a', 'model', 'st...</td>\n",
       "    </tr>\n",
       "    <tr>\n",
       "      <th>3</th>\n",
       "      <td>4</td>\n",
       "      <td>Hospital Playlist Season 2</td>\n",
       "      <td>['everyday', 'is', 'extraordinary', 'for', 'fi...</td>\n",
       "    </tr>\n",
       "    <tr>\n",
       "      <th>4</th>\n",
       "      <td>5</td>\n",
       "      <td>Nirvana in Fire</td>\n",
       "      <td>['in', 'sixthcentury', 'china,', 'the', 'emper...</td>\n",
       "    </tr>\n",
       "  </tbody>\n",
       "</table>\n",
       "</div>"
      ],
      "text/plain": [
       "   drama_id                       title  \\\n",
       "0         1        Twinkling Watermelon   \n",
       "1         2              Move to Heaven   \n",
       "2         3           Weak Hero Class 1   \n",
       "3         4  Hospital Playlist Season 2   \n",
       "4         5             Nirvana in Fire   \n",
       "\n",
       "                                            new_tags  \n",
       "0  ['in', ',', 'eun', 'gyeol', 'is', 'a', 'coda',...  \n",
       "1  ['han', 'geu', 'roo', 'is', 'an', 'autistic', ...  \n",
       "2  ['yeon', 'shi', 'eun', 'is', 'a', 'model', 'st...  \n",
       "3  ['everyday', 'is', 'extraordinary', 'for', 'fi...  \n",
       "4  ['in', 'sixthcentury', 'china,', 'the', 'emper...  "
      ]
     },
     "execution_count": 39,
     "metadata": {},
     "output_type": "execute_result"
    }
   ],
   "source": [
    "new_dramas_df.head()"
   ]
  },
  {
   "cell_type": "code",
   "execution_count": null,
   "id": "0fb404b4",
   "metadata": {},
   "outputs": [],
   "source": []
  },
  {
   "cell_type": "markdown",
   "id": "b62a5ed7",
   "metadata": {},
   "source": [
    "### 6.6 Stemming using NLTK's PorterStemmer"
   ]
  },
  {
   "cell_type": "code",
   "execution_count": 40,
   "id": "7e569f88",
   "metadata": {},
   "outputs": [],
   "source": [
    "import nltk"
   ]
  },
  {
   "cell_type": "code",
   "execution_count": 41,
   "id": "be24b25e",
   "metadata": {},
   "outputs": [],
   "source": [
    "from nltk.stem.porter import PorterStemmer\n",
    "ps = PorterStemmer()"
   ]
  },
  {
   "cell_type": "code",
   "execution_count": 42,
   "id": "bbffb898",
   "metadata": {},
   "outputs": [],
   "source": [
    "def stem(text):\n",
    "    y = []\n",
    "    for i in text.split():\n",
    "        y.append(ps.stem(i))\n",
    "        \n",
    "    return ' '.join(y)"
   ]
  },
  {
   "cell_type": "markdown",
   "id": "75c77916",
   "metadata": {},
   "source": [
    "#### Testing newly created function"
   ]
  },
  {
   "cell_type": "code",
   "execution_count": 43,
   "id": "982e9a76",
   "metadata": {},
   "outputs": [
    {
     "data": {
      "text/plain": [
       "'love'"
      ]
     },
     "execution_count": 43,
     "metadata": {},
     "output_type": "execute_result"
    }
   ],
   "source": [
    "ps.stem('loving')"
   ]
  },
  {
   "cell_type": "code",
   "execution_count": 44,
   "id": "71a79a59",
   "metadata": {},
   "outputs": [
    {
     "data": {
      "text/plain": [
       "'in , eun gyeol is a coda child of deaf adult highschool student, but he ha a passion for music. dure the day, he is a studiou model pupil, but at night, he rock out as a guitarist in a band. but when he stumbl across a strang yet allur music store, he goe hurtl back in time to . here, he come face to face with hi father, ha yi chan as a high schooler! yi chan take eun gyeol for a lunat when the latter call him dad. wors still, it look like yi chan ha a crush on an ici cellist name se kyeong not hi futur mother, cheong ah! in a bid to put thing right, eun gyeol join a band front by hi futur father. but will thi be enough to help eun gyeol bring hi futur parent together... and will he ever get back to the s? romance, youth, drama, fantasytimetravel,childfromthefuture,signlanguage,father-sonrelationship,deafness,1990s,music,comingofage,friendship,comedyryeoun,choihyunwook,seolinah,shineunsoo,kimjooryoung,bongjaehyun'"
      ]
     },
     "execution_count": 44,
     "metadata": {},
     "output_type": "execute_result"
    }
   ],
   "source": [
    "stem('in , eun gyeol is a coda child of deaf adults highschool student, but he has a passion for music. during the day, he is a studious model pupil, but at night, he rocks out as a guitarist in a band. but when he stumbles across a strange yet alluring music store, he goes hurtling back in time to .  here, he comes face to face with his father, ha yi chan  as a high schooler! yi chan takes eun gyeol for a lunatic when the latter calls him dad. worse still, it looks like yi chan has a crush on an icy cellist named se kyeong  not his future mother, cheong ah!  in a bid to put things right, eun gyeol joins a band fronted by his future father. but will this be enough to help eun gyeol bring his future parents together... and will he ever get back to the s? romance,  youth,  drama,  fantasytimetravel,childfromthefuture,signlanguage,father-sonrelationship,deafness,1990s,music,comingofage,friendship,comedyryeoun,choihyunwook,seolinah,shineunsoo,kimjooryoung,bongjaehyun')"
   ]
  },
  {
   "cell_type": "markdown",
   "id": "88c08ec6",
   "metadata": {},
   "source": [
    "#### Applying it to the dataset"
   ]
  },
  {
   "cell_type": "code",
   "execution_count": 45,
   "id": "58b8e2b8",
   "metadata": {},
   "outputs": [
    {
     "name": "stderr",
     "output_type": "stream",
     "text": [
      "C:\\Users\\noorh\\AppData\\Local\\Temp\\ipykernel_52760\\1831288404.py:1: SettingWithCopyWarning: \n",
      "A value is trying to be set on a copy of a slice from a DataFrame.\n",
      "Try using .loc[row_indexer,col_indexer] = value instead\n",
      "\n",
      "See the caveats in the documentation: https://pandas.pydata.org/pandas-docs/stable/user_guide/indexing.html#returning-a-view-versus-a-copy\n",
      "  new_dramas_df['new_tags'] = new_dramas_df['new_tags'].apply(stem)\n"
     ]
    }
   ],
   "source": [
    "new_dramas_df['new_tags'] = new_dramas_df['new_tags'].apply(stem)"
   ]
  },
  {
   "cell_type": "markdown",
   "id": "a80f2989",
   "metadata": {},
   "source": [
    "### 6.7 Text Vectorization"
   ]
  },
  {
   "cell_type": "code",
   "execution_count": 46,
   "id": "077b151d",
   "metadata": {},
   "outputs": [
    {
     "data": {
      "text/plain": [
       "\"['in', ',', 'eun', 'gyeol', 'is', 'a', 'coda', 'child', 'of', 'deaf', 'adults', 'highschool', 'student,', 'but', 'he', 'has', 'a', 'passion', 'for', 'music.', 'during', 'the', 'day,', 'he', 'is', 'a', 'studious', 'model', 'pupil,', 'but', 'at', 'night,', 'he', 'rocks', 'out', 'as', 'a', 'guitarist', 'in', 'a', 'band.', 'but', 'when', 'he', 'stumbles', 'across', 'a', 'strange', 'yet', 'alluring', 'music', 'store,', 'he', 'goes', 'hurtling', 'back', 'in', 'time', 'to', '.', 'here,', 'he', 'comes', 'face', 'to', 'face', 'with', 'his', 'father,', 'ha', 'yi', 'chan', 'as', 'a', 'high', 'schooler!', 'yi', 'chan', 'takes', 'eun', 'gyeol', 'for', 'a', 'lunatic', 'when', 'the', 'latter', 'calls', 'him', 'dad.', 'worse', 'still,', 'it', 'looks', 'like', 'yi', 'chan', 'has', 'a', 'crush', 'on', 'an', 'icy', 'cellist', 'named', 'se', 'kyeong', 'not', 'his', 'future', 'mother,', 'cheong', 'ah!', 'in', 'a', 'bid', 'to', 'put', 'things', 'right,', 'eun', 'gyeol', 'joins', 'a', 'band', 'fronted', 'by', 'his', 'future', 'father.', 'but', 'will', 'this', 'be', 'enough', 'to', 'help', 'eun', 'gyeol', 'bring', 'his', 'future', 'parents', 'together...', 'and', 'will', 'he', 'ever', 'get', 'back', 'to', 'the', 's?']romance, youth, drama, fantasytimetravel,childfromthefuture,signlanguage,father-sonrelationship,deafness,1990s,music,comingofage,friendship,comedyryeoun,choihyunwook,seolinah,shineunsoo,kimjooryoung,bongjaehyun\""
      ]
     },
     "execution_count": 46,
     "metadata": {},
     "output_type": "execute_result"
    }
   ],
   "source": [
    "new_dramas_df['new_tags'][0]"
   ]
  },
  {
   "cell_type": "markdown",
   "id": "d9aea8e1",
   "metadata": {},
   "source": [
    "#### Import library to use the count vectorization"
   ]
  },
  {
   "cell_type": "code",
   "execution_count": 47,
   "id": "c3359e80",
   "metadata": {},
   "outputs": [],
   "source": [
    "from sklearn.feature_extraction.text import CountVectorizer\n",
    "cv = CountVectorizer(max_features=5000, stop_words='english')"
   ]
  },
  {
   "cell_type": "code",
   "execution_count": 48,
   "id": "c637ac51",
   "metadata": {},
   "outputs": [
    {
     "data": {
      "text/plain": [
       "(4980, 5000)"
      ]
     },
     "execution_count": 48,
     "metadata": {},
     "output_type": "execute_result"
    }
   ],
   "source": [
    "cv.fit_transform(new_dramas_df['new_tags']).toarray().shape"
   ]
  },
  {
   "cell_type": "markdown",
   "id": "16542ad0",
   "metadata": {},
   "source": [
    "The code creates a document-term matrix for the 'new_tags' column in the `new_dramas_df` DataFrame. It limits the features to the 5000 most common words and excludes common English stop words. The final output is the shape of the resulting array, showing the number of documents and the number of features (words)."
   ]
  },
  {
   "cell_type": "code",
   "execution_count": 49,
   "id": "f5178277",
   "metadata": {},
   "outputs": [],
   "source": [
    "vectors = cv.fit_transform(new_dramas_df['new_tags']).toarray()"
   ]
  },
  {
   "cell_type": "code",
   "execution_count": 50,
   "id": "1228c9ac",
   "metadata": {},
   "outputs": [
    {
     "data": {
      "text/plain": [
       "array([[0, 0, 1, ..., 0, 0, 0],\n",
       "       [0, 0, 0, ..., 0, 0, 0],\n",
       "       [0, 0, 0, ..., 0, 0, 0],\n",
       "       ...,\n",
       "       [0, 0, 0, ..., 0, 0, 0],\n",
       "       [0, 0, 0, ..., 0, 0, 0],\n",
       "       [0, 0, 0, ..., 0, 0, 0]], dtype=int64)"
      ]
     },
     "execution_count": 50,
     "metadata": {},
     "output_type": "execute_result"
    }
   ],
   "source": [
    "vectors"
   ]
  },
  {
   "cell_type": "code",
   "execution_count": 51,
   "id": "67255900",
   "metadata": {},
   "outputs": [
    {
     "name": "stdout",
     "output_type": "stream",
     "text": [
      "['19' '1980s' '1990s' ... 'zong' 'zu' 'zuo']\n"
     ]
    }
   ],
   "source": [
    "feature_names = cv.get_feature_names_out()\n",
    "print(feature_names)\n",
    "#print(len(feature_names))"
   ]
  },
  {
   "cell_type": "markdown",
   "id": "a8059e29",
   "metadata": {},
   "source": [
    "### 7. Modelling"
   ]
  },
  {
   "cell_type": "markdown",
   "id": "8525875d",
   "metadata": {},
   "source": [
    "### 7.1 Cosine Similarity"
   ]
  },
  {
   "cell_type": "code",
   "execution_count": 52,
   "id": "3bd97451",
   "metadata": {},
   "outputs": [],
   "source": [
    "from sklearn.metrics.pairwise import cosine_similarity"
   ]
  },
  {
   "cell_type": "code",
   "execution_count": 53,
   "id": "f2c40540",
   "metadata": {},
   "outputs": [],
   "source": [
    "similarity = cosine_similarity(vectors)"
   ]
  },
  {
   "cell_type": "code",
   "execution_count": 54,
   "id": "c5346318",
   "metadata": {},
   "outputs": [
    {
     "data": {
      "text/plain": [
       "(4980, 4980)"
      ]
     },
     "execution_count": 54,
     "metadata": {},
     "output_type": "execute_result"
    }
   ],
   "source": [
    "similarity.shape"
   ]
  },
  {
   "cell_type": "code",
   "execution_count": 55,
   "id": "cbca885c",
   "metadata": {},
   "outputs": [
    {
     "data": {
      "text/plain": [
       "array([1.        , 0.02837268, 0.21155435, ..., 0.02344036, 0.10548163,\n",
       "       0.06907372])"
      ]
     },
     "execution_count": 55,
     "metadata": {},
     "output_type": "execute_result"
    }
   ],
   "source": [
    "similarity[0]"
   ]
  },
  {
   "cell_type": "code",
   "execution_count": 56,
   "id": "0ff8c1f4",
   "metadata": {},
   "outputs": [
    {
     "data": {
      "image/png": "[encoded data removed]",
      "text/plain": [
       "<Figure size 1000x800 with 2 Axes>"
      ]
     },
     "metadata": {},
     "output_type": "display_data"
    }
   ],
   "source": [
    "# Select a subset of the similarity matrix (e.g., the first 100 dramas)\n",
    "subset_similarity = similarity[:50, :50]\n",
    "\n",
    "# Plot the heatmap for the subset\n",
    "plt.figure(figsize=(10, 8))\n",
    "sns.heatmap(subset_similarity, cmap='coolwarm', xticklabels=False, yticklabels=False)\n",
    "plt.title('Similarity Heatmap (First 100 Dramas)')\n",
    "plt.xlabel('Drama Index')\n",
    "plt.ylabel('Drama Index')\n",
    "plt.show()"
   ]
  },
  {
   "cell_type": "code",
   "execution_count": 175,
   "id": "19c4a383",
   "metadata": {},
   "outputs": [
    {
     "data": {
      "text/plain": [
       "[(3782, 0.2790781528257191),\n",
       " (4640, 0.2728624948955202),\n",
       " (689, 0.2710906605130818),\n",
       " (2599, 0.2691668720495606),\n",
       " (4935, 0.2605250528594531),\n",
       " (1659, 0.2530845506828974)]"
      ]
     },
     "execution_count": 175,
     "metadata": {},
     "output_type": "execute_result"
    }
   ],
   "source": [
    "sorted(list(enumerate(similarity[0])),reverse = True, key=lambda x:x[1])[1:7]"
   ]
  },
  {
   "cell_type": "code",
   "execution_count": 63,
   "id": "fefbad91",
   "metadata": {},
   "outputs": [],
   "source": [
    "def recommend(drama):\n",
    "    # Find the index of the drama that matches the title\n",
    "    drama_index = new_dramas_df[new_dramas_df['title'] == drama].index[0]\n",
    "    \n",
    "    # Get the similarity scores for this drama\n",
    "    distances = similarity[drama_index]\n",
    "    \n",
    "    # Create a list of (index, similarity score) tuples and sort it\n",
    "    # Reverse=True sorts in descending order, key=lambda x:x[1] sorts by the similarity score\n",
    "    drama_list = sorted(list(enumerate(distances)), reverse=True, key=lambda x: x[1])[1:6]\n",
    "    \n",
    "    # Use the separate function to display the recommendations\n",
    "    display_recommendations(drama, drama_list)\n",
    "    \n",
    "    return drama_list  # Return the list of recommended dramas and their similarity scores\n",
    "\n",
    "\n",
    "\n"
   ]
  },
  {
   "cell_type": "code",
   "execution_count": 64,
   "id": "a637e62e",
   "metadata": {},
   "outputs": [
    {
     "name": "stdout",
     "output_type": "stream",
     "text": [
      "Recommendations for 'I Am Nobody':\n",
      "My Kung Fu Girlfriend (Similarity Score: 0.24)\n",
      "Demi-Gods and Semi-Devils (Similarity Score: 0.23)\n",
      "The Heaven Sword and Dragon Saber (Similarity Score: 0.23)\n",
      "The Legend of the Condor Heroes (Similarity Score: 0.23)\n",
      "New Smiling Proud Wanderer (Similarity Score: 0.22)\n"
     ]
    }
   ],
   "source": [
    "recommendations = recommend('I Am Nobody')"
   ]
  },
  {
   "cell_type": "code",
   "execution_count": 66,
   "id": "1a8dcff6",
   "metadata": {},
   "outputs": [
    {
     "name": "stdout",
     "output_type": "stream",
     "text": [
      "Recommendations for 'The Glory':\n",
      "Shiritsu Bakaleya Koukou (Similarity Score: 0.43)\n",
      "Yankee Bokou ni Kaeru (Similarity Score: 0.42)\n",
      "Gakkou no Kaidan (Similarity Score: 0.42)\n",
      "GTO: Remake Season 2 (Similarity Score: 0.41)\n",
      "My Boss, My Hero (Similarity Score: 0.41)\n"
     ]
    }
   ],
   "source": [
    "recommendations = recommend('The Glory')"
   ]
  },
  {
   "cell_type": "code",
   "execution_count": 67,
   "id": "eb1dfa6b",
   "metadata": {},
   "outputs": [
    {
     "name": "stdout",
     "output_type": "stream",
     "text": [
      "Recommendations for 'Crash Landing on You':\n",
      "Comrades (Similarity Score: 0.32)\n",
      "Myung Wol the Spy (Similarity Score: 0.30)\n",
      "Doctor Stranger (Similarity Score: 0.28)\n",
      "Curtain Call (Similarity Score: 0.23)\n",
      "Dr. Romantic Season 3 (Similarity Score: 0.23)\n"
     ]
    }
   ],
   "source": [
    "recommendations = recommend('Crash Landing on You')"
   ]
  },
  {
   "cell_type": "code",
   "execution_count": 68,
   "id": "35d16321",
   "metadata": {},
   "outputs": [
    {
     "name": "stdout",
     "output_type": "stream",
     "text": [
      "Recommendations for 'Flower of Evil':\n",
      "Baek Hee Has Returned (Similarity Score: 0.27)\n",
      "Beyond Evil (Similarity Score: 0.27)\n",
      "Mask (Similarity Score: 0.27)\n",
      "Marry My Husband (Similarity Score: 0.27)\n",
      "Children of Nobody (Similarity Score: 0.26)\n"
     ]
    }
   ],
   "source": [
    "recommendations = recommend('Flower of Evil')"
   ]
  },
  {
   "cell_type": "code",
   "execution_count": 69,
   "id": "c99e0a83",
   "metadata": {},
   "outputs": [
    {
     "name": "stdout",
     "output_type": "stream",
     "text": [
      "Recommendations for 'Alchemy of Souls':\n",
      "Alchemy of Souls Season 2: Light and Shadow (Similarity Score: 0.24)\n",
      "Golden Rainbow (Similarity Score: 0.22)\n",
      "Stupid Cupid (Similarity Score: 0.21)\n",
      "Nothing Gold Can Stay (Similarity Score: 0.21)\n",
      "Wonderful Mama (Similarity Score: 0.20)\n"
     ]
    }
   ],
   "source": [
    "recommendations = recommend('Alchemy of Souls')"
   ]
  },
  {
   "cell_type": "code",
   "execution_count": 70,
   "id": "b2be62fb",
   "metadata": {},
   "outputs": [
    {
     "name": "stdout",
     "output_type": "stream",
     "text": [
      "Recommendations for 'Squid Game':\n",
      "W no Higeki (Similarity Score: 0.27)\n",
      "Children of Nobody (Similarity Score: 0.23)\n",
      "Liar Game (Similarity Score: 0.21)\n",
      "Imawa no Kuni no Alice Season 2 (Similarity Score: 0.20)\n",
      "Familiar Wife (Similarity Score: 0.20)\n"
     ]
    }
   ],
   "source": [
    "recommendations = recommend('Squid Game')"
   ]
  },
  {
   "cell_type": "markdown",
   "id": "6ec83837",
   "metadata": {},
   "source": [
    "### Deploy to web"
   ]
  },
  {
   "cell_type": "code",
   "execution_count": 178,
   "id": "466f237a",
   "metadata": {},
   "outputs": [],
   "source": [
    "import pickle"
   ]
  },
  {
   "cell_type": "code",
   "execution_count": 179,
   "id": "4d3bee69",
   "metadata": {},
   "outputs": [],
   "source": [
    "# Pickle the DataFrame\n",
    "with open('asian_dramas.pkl', 'wb') as f:\n",
    "    pickle.dump(new_dramas_df, f)"
   ]
  },
  {
   "cell_type": "code",
   "execution_count": 106,
   "id": "2b49de31",
   "metadata": {},
   "outputs": [
    {
     "data": {
      "text/plain": [
       "array(['Twinkling Watermelon', 'Move to Heaven', 'Weak Hero Class 1', ...,\n",
       "       'Hataraki Man', 'Mon Rak Asoon', 'Love, Just Come'], dtype=object)"
      ]
     },
     "execution_count": 106,
     "metadata": {},
     "output_type": "execute_result"
    }
   ],
   "source": [
    "new_dramas_df['title'].values"
   ]
  },
  {
   "cell_type": "code",
   "execution_count": 107,
   "id": "4ab6d05a",
   "metadata": {},
   "outputs": [],
   "source": [
    "pickle.dump(similarity,open('similarity.pkl','wb'))"
   ]
  },
  {
   "cell_type": "code",
   "execution_count": 108,
   "id": "c2316576",
   "metadata": {
    "scrolled": true
   },
   "outputs": [
    {
     "name": "stdout",
     "output_type": "stream",
     "text": [
      "   drama_id                       title  \\\n",
      "0         1        Twinkling Watermelon   \n",
      "1         2              Move to Heaven   \n",
      "2         3           Weak Hero Class 1   \n",
      "3         4  Hospital Playlist Season 2   \n",
      "4         5             Nirvana in Fire   \n",
      "\n",
      "                                            new_tags  \n",
      "0  in , eun gyeol is a coda child of deaf adult h...  \n",
      "1  han geu roo is an autist yearold. he work for ...  \n",
      "2  yeon shi eun is a model student who rank at th...  \n",
      "3  everyday is extraordinari for five doctor and ...  \n",
      "4  in sixthcenturi china, the emperor of great li...  \n",
      "drama_id     int64\n",
      "title       object\n",
      "new_tags    object\n",
      "dtype: object\n",
      "drama_id    0\n",
      "title       0\n",
      "new_tags    0\n",
      "dtype: int64\n"
     ]
    }
   ],
   "source": [
    "print(new_dramas_df.head())"
   ]
  },
  {
   "cell_type": "code",
   "execution_count": 109,
   "id": "1745e2af",
   "metadata": {},
   "outputs": [
    {
     "name": "stdout",
     "output_type": "stream",
     "text": [
      "drama_id     int64\n",
      "title       object\n",
      "new_tags    object\n",
      "dtype: object\n"
     ]
    }
   ],
   "source": [
    "print(new_dramas_df.dtypes)"
   ]
  },
  {
   "cell_type": "code",
   "execution_count": 110,
   "id": "d60f94c0",
   "metadata": {},
   "outputs": [
    {
     "name": "stdout",
     "output_type": "stream",
     "text": [
      "drama_id    0\n",
      "title       0\n",
      "new_tags    0\n",
      "dtype: int64\n"
     ]
    }
   ],
   "source": [
    "print(new_dramas_df.isnull().sum())"
   ]
  },
  {
   "cell_type": "code",
   "execution_count": 111,
   "id": "5a12df79",
   "metadata": {},
   "outputs": [
    {
     "name": "stdout",
     "output_type": "stream",
     "text": [
      "['Twinkling Watermelon' 'Move to Heaven' 'Weak Hero Class 1' ...\n",
      " 'Hataraki Man' 'Mon Rak Asoon' 'Love, Just Come']\n"
     ]
    }
   ],
   "source": [
    "print(new_dramas_df['title'].unique())"
   ]
  },
  {
   "cell_type": "code",
   "execution_count": 112,
   "id": "5f153242",
   "metadata": {},
   "outputs": [
    {
     "name": "stdout",
     "output_type": "stream",
     "text": [
      "      drama_id                    title  \\\n",
      "10          11                    Reset   \n",
      "24          25                   Mother   \n",
      "37          38               My Dearest   \n",
      "107        108  While You Were Sleeping   \n",
      "145        146   Descendants of the Sun   \n",
      "...        ...                      ...   \n",
      "4855      4856                     Stay   \n",
      "4857      4858                    Hyena   \n",
      "4871      4872         First Love Again   \n",
      "4965      4966          Falling in Love   \n",
      "4968      4969             Endless Love   \n",
      "\n",
      "                                               new_tags  \n",
      "10    an unexplain phenomena find collegego student,...  \n",
      "24    realiz one of her student is be abused, school...  \n",
      "37    a lovestori between a noblewoman and a mysteri...  \n",
      "107   nam hong ju, endow with the abil to forese eve...  \n",
      "145   a love stori that develop between a surgeon an...  \n",
      "...                                                 ...  \n",
      "4855  for filipino filmmak andr lee , win the grand ...  \n",
      "4857  a quirki male version of sex and the city, thi...  \n",
      "4871  the popular web novelist yeon seok ha one big ...  \n",
      "4965  ning ruosheng and her husband, su lin, were in...  \n",
      "4968  a drama about korean polit and financi situat ...  \n",
      "\n",
      "[201 rows x 3 columns]\n"
     ]
    }
   ],
   "source": [
    "print(new_dramas_df[new_dramas_df.duplicated(subset=['title'], keep=False)])"
   ]
  }
 ],
 "metadata": {
  "kernelspec": {
   "display_name": "Python 3 (ipykernel)",
   "language": "python",
   "name": "python3"
  },
  "language_info": {
   "codemirror_mode": {
    "name": "ipython",
    "version": 3
   },
   "file_extension": ".py",
   "mimetype": "text/x-python",
   "name": "python",
   "nbconvert_exporter": "python",
   "pygments_lexer": "ipython3",
   "version": "3.10.9"
  }
 },
 "nbformat": 4,
 "nbformat_minor": 5
}
